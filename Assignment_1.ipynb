{
  "nbformat": 4,
  "nbformat_minor": 0,
  "metadata": {
    "colab": {
      "provenance": []
    },
    "kernelspec": {
      "name": "python3",
      "display_name": "Python 3"
    },
    "language_info": {
      "name": "python"
    }
  },
  "cells": [
    {
      "cell_type": "code",
      "source": [
        "# task 1: Simple voting eligibility check\n",
        "age = int(input(\"Enter your age: \"))\n",
        "if age >= 18:\n",
        " print(\"You are eligible to vote!\")\n",
        "else:\n",
        " print(\"You are not eligible to vote yet.\")"
      ],
      "metadata": {
        "colab": {
          "base_uri": "https://localhost:8080/"
        },
        "id": "SzMl5GoV3GKJ",
        "outputId": "b4ef70b9-85df-4a25-ed9a-26c267bc5b42"
      },
      "execution_count": 23,
      "outputs": [
        {
          "output_type": "stream",
          "name": "stdout",
          "text": [
            "Enter your age: 6\n",
            "You are not eligible to vote yet.\n"
          ]
        }
      ]
    },
    {
      "cell_type": "code",
      "source": [
        "#Task 2: Create a simple calculator\n",
        "#Task: Create a simple calculator that performs basic arithmetic operations\n",
        "number1 = int(input(\"Enter the first number: \"))\n",
        "number2 = int(input(\"Enter the second number: \"))\n",
        "operation = input(\"Enter the operation (+, -,*,/): \")\n",
        "if operation == \"+\":\n",
        " result = number1 + number2\n",
        " print(f\"result= {result}\")\n",
        "elif operation == \"-\":\n",
        " result = number1 - number2\n",
        " print(f\"result= {result}\")\n",
        "elif operation == \"*\":\n",
        " result=number1 * number2\n",
        " print(f\"result= {result}\")\n",
        "elif operation == \"/\":\n",
        "  result = number1 / number2\n",
        "  print(f\"result= {result}\")\n",
        "else:\n",
        "  print(\"operation not valid\")"
      ],
      "metadata": {
        "colab": {
          "base_uri": "https://localhost:8080/"
        },
        "id": "mDjFG6783GGP",
        "outputId": "70c8797a-1d6e-4c68-bfac-e055fc39ce9c"
      },
      "execution_count": 24,
      "outputs": [
        {
          "output_type": "stream",
          "name": "stdout",
          "text": [
            "Enter the first number: 4\n",
            "Enter the second number: 8\n",
            "Enter the operation (+, -,*,/): +\n",
            "result= 12\n"
          ]
        }
      ]
    },
    {
      "cell_type": "code",
      "source": [
        "#1. Find the Maximum and Minimum of a List\n",
        "# Question: Given a list of numbers, find the maximum and minimum value\n",
        "lists=[9,10,15,5,3,19,80,100]\n",
        "min_num=min(lists)\n",
        "max_num=max(lists)\n",
        "print(f\"min_num= {min_num}\")\n",
        "print(f\"max_num= {max_num}\")"
      ],
      "metadata": {
        "colab": {
          "base_uri": "https://localhost:8080/"
        },
        "id": "z3Hw2BgT3GB9",
        "outputId": "62d64152-550e-497e-f3cc-159d20e192d2"
      },
      "execution_count": 25,
      "outputs": [
        {
          "output_type": "stream",
          "name": "stdout",
          "text": [
            "min_num= 3\n",
            "max_num= 100\n"
          ]
        }
      ]
    },
    {
      "cell_type": "code",
      "source": [
        "#2. Write a function to check if a given number is a prime number.\n",
        "number = 31\n",
        "\n",
        "flag= False\n",
        "\n",
        "if number ==0 or number ==1:\n",
        "    print(f\"{number} is not a prime number\")\n",
        "elif number > 1:\n",
        "    for i in range(2, number):\n",
        "        if (number % i) == 0:\n",
        "            flag = True\n",
        "            break\n",
        "if flag:\n",
        "    print(\"is not a prime number\")\n",
        "else:\n",
        "    print(\"is a prime number\")\n",
        ""
      ],
      "metadata": {
        "colab": {
          "base_uri": "https://localhost:8080/"
        },
        "id": "4FHSJH2d3F-K",
        "outputId": "abd207cb-b565-47ea-c87b-41d8348cff5e"
      },
      "execution_count": 26,
      "outputs": [
        {
          "output_type": "stream",
          "name": "stdout",
          "text": [
            "is a prime number\n"
          ]
        }
      ]
    },
    {
      "cell_type": "code",
      "source": [
        "#3. Factorial of a Number– Question: Compute the factorial of a given number using recursion.\n",
        "#The factorial of a number is the product of all positive integers less than or equal to that number.\n",
        "#For example, the factorial of 5 (denoted as 5!) is 5 × 4 × 3 × 2 × 1 = 120.\n",
        "\n",
        "\n",
        "n= 5\n",
        "fact =1\n",
        "\n",
        "for i in range (1, n + 1):\n",
        "    fact *= i\n",
        "print(fact)\n",
        "\n",
        "# using recursive approach\n",
        "def fact(n):\n",
        "    return 1 if (n==1 or n==0) else n * fact(n - 1)\n",
        "\n",
        "num=5\n",
        "print(fact(num))\n"
      ],
      "metadata": {
        "colab": {
          "base_uri": "https://localhost:8080/"
        },
        "id": "oPye68Tn3F5P",
        "outputId": "4c8a49e9-466d-4947-fc3e-791e4ea886b4"
      },
      "execution_count": 27,
      "outputs": [
        {
          "output_type": "stream",
          "name": "stdout",
          "text": [
            "120\n",
            "120\n"
          ]
        }
      ]
    },
    {
      "cell_type": "code",
      "source": [
        "#4: Generate the Fibonacci sequence up to a given number of terms.\n",
        "num=int(input(\"Enter the number:\"))\n",
        "term=int(input(\"Enter the number of terms:\"))\n",
        "\n",
        "def fibonacci(num,_term): #defining a function\n",
        "    fibonacci_series=[]\n",
        "    a, b = num, num+1\n",
        "    for _ in range(term):\n",
        "        fibonacci_series.append(a)\n",
        "        a, b = b, a+b\n",
        "    return fibonacci_series\n",
        "print(fibonacci(num,term))\n",
        "\n"
      ],
      "metadata": {
        "colab": {
          "base_uri": "https://localhost:8080/"
        },
        "id": "ErGGhDib3fFo",
        "outputId": "aaa1e12e-cd9e-46cd-ec42-70247f4e333b"
      },
      "execution_count": 37,
      "outputs": [
        {
          "output_type": "stream",
          "name": "stdout",
          "text": [
            "Enter the number:5\n",
            "Enter the number of terms:8\n",
            "[5, 6, 11, 17, 28, 45, 73, 118]\n"
          ]
        }
      ]
    },
    {
      "cell_type": "code",
      "source": [
        "#5: Write a function to calculate the sum of digits of a given integer.\n",
        "\n",
        "num1= int(input(\"Enter a number1: \"))\n",
        "num2 =int(input(\"Enter a number2: \"))\n",
        "if num1 > 0 or num2 > 0:\n",
        " sum_result = (num1 + num2)\n",
        " print(f\"sum of number1 and number2 is: {sum_result}\")\n",
        "else:\n",
        "  print(\"Invalid input. Please enter a positive number.\")\n"
      ],
      "metadata": {
        "colab": {
          "base_uri": "https://localhost:8080/"
        },
        "id": "kwA555f-3Fyu",
        "outputId": "89132993-1179-4989-e87e-7f493e3fc71f"
      },
      "execution_count": 29,
      "outputs": [
        {
          "output_type": "stream",
          "name": "stdout",
          "text": [
            "Enter a number1: 3\n",
            "Enter a number2: 4\n",
            "sum of number1 and number2 is: 7\n"
          ]
        }
      ]
    },
    {
      "cell_type": "code",
      "source": [
        "#6: Convert a decimal number to its binary representation\n",
        "\n",
        "decimal_number = 10\n",
        "binary_string = bin(decimal_number)[2:] # get rid of front 2 digits\n",
        "print(binary_string)"
      ],
      "metadata": {
        "colab": {
          "base_uri": "https://localhost:8080/"
        },
        "id": "XOlIuKu1367W",
        "outputId": "0230a38e-4d98-419d-d13a-7de8d3290d91"
      },
      "execution_count": 30,
      "outputs": [
        {
          "output_type": "stream",
          "name": "stdout",
          "text": [
            "1010\n"
          ]
        }
      ]
    },
    {
      "cell_type": "code",
      "source": [
        "#7: Compute the greatest common divisor of two numbers using Euclid’s algorithm.\n",
        "\n",
        "#import math # can get the result using math\n",
        "\n",
        "first_number = 60\n",
        "second_number = 48\n",
        "while second_number != 0:\n",
        "    first_number, second_number = second_number, first_number % second_number\n",
        "    print(first_number)\n",
        "\n",
        "#print(math.gcd(first_number, second_number))\n"
      ],
      "metadata": {
        "colab": {
          "base_uri": "https://localhost:8080/"
        },
        "id": "yd1wcf5P4CaJ",
        "outputId": "7460a204-f158-4b03-f446-6d55910ea728"
      },
      "execution_count": 31,
      "outputs": [
        {
          "output_type": "stream",
          "name": "stdout",
          "text": [
            "48\n",
            "12\n"
          ]
        }
      ]
    },
    {
      "cell_type": "code",
      "source": [
        "#8:  Given a list of numbers, find the second largest number.\n",
        "\n",
        "lists = [5,9,7,6,10,17,19,50]\n",
        "lists.sort(reverse=True)\n",
        "print(lists[1]) # second largest number will be at index 1"
      ],
      "metadata": {
        "colab": {
          "base_uri": "https://localhost:8080/"
        },
        "id": "25_bGocQ4LAz",
        "outputId": "1af0c1d3-4eca-4077-a70a-e7ada607aae5"
      },
      "execution_count": 32,
      "outputs": [
        {
          "output_type": "stream",
          "name": "stdout",
          "text": [
            "19\n"
          ]
        }
      ]
    },
    {
      "cell_type": "code",
      "source": [
        "#9: Count the number of digits in a given integer.\n",
        "lists = [1,2,3,4]\n",
        "count_digit = len(lists)\n",
        "print(count_digit)"
      ],
      "metadata": {
        "colab": {
          "base_uri": "https://localhost:8080/"
        },
        "id": "YcbL4mDE4PDI",
        "outputId": "f81c693f-5014-402d-cec7-e7b29ae042ae"
      },
      "execution_count": 33,
      "outputs": [
        {
          "output_type": "stream",
          "name": "stdout",
          "text": [
            "4\n"
          ]
        }
      ]
    },
    {
      "cell_type": "code",
      "source": [
        "#10: Determine if a given number is a power of two\n",
        "\n",
        "def is_power_of_two(n):\n",
        "    if n <= 0:\n",
        "        return False\n",
        "    return (n & (n - 1)) == 0\n",
        "number = int(input(\"Enter a number:\"))\n",
        "if is_power_of_two(number):\n",
        "    print(f\"{number} is a power of two.\")\n",
        "else:\n",
        "    print(f\"{number} is not a power of two.\")"
      ],
      "metadata": {
        "colab": {
          "base_uri": "https://localhost:8080/"
        },
        "id": "7deX_0MJ4Sr8",
        "outputId": "73866fe9-02bc-4eef-bd8c-16e7b761b44b"
      },
      "execution_count": 34,
      "outputs": [
        {
          "output_type": "stream",
          "name": "stdout",
          "text": [
            "Enter a number:4\n",
            "4 is a power of two.\n"
          ]
        }
      ]
    }
  ]
}