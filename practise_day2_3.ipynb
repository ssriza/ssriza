{
  "nbformat": 4,
  "nbformat_minor": 0,
  "metadata": {
    "colab": {
      "provenance": []
    },
    "kernelspec": {
      "name": "python3",
      "display_name": "Python 3"
    },
    "language_info": {
      "name": "python"
    }
  },
  "cells": [
    {
      "cell_type": "code",
      "execution_count": 5,
      "metadata": {
        "colab": {
          "base_uri": "https://localhost:8080/"
        },
        "id": "oHZLbB7JgMnV",
        "outputId": "f5145189-8c4b-4f55-d845-0778c6d05c54"
      },
      "outputs": [
        {
          "output_type": "stream",
          "name": "stdout",
          "text": [
            "10 is even\n"
          ]
        }
      ],
      "source": [
        "number=10\n",
        "if number % 2==0:\n",
        "    print (f\"{number} is even\") #{number}is even, to make it dyanamic use variable inside {}. and f\n",
        "else:\n",
        "  print (f\"{number} is odd\")\n",
        "\n",
        "\n",
        "\n"
      ]
    },
    {
      "cell_type": "code",
      "source": [
        "n=5\n",
        "\n",
        "if n > 0:\n",
        "   print (\"n is positive\")\n",
        "elif n==0:\n",
        "  print(\"n is zero\")\n",
        "else:\n",
        "  print(\"n is negative\")\n",
        "  #n is positive"
      ],
      "metadata": {
        "colab": {
          "base_uri": "https://localhost:8080/"
        },
        "id": "xJSCAznVJKdv",
        "outputId": "1950adde-1ec3-4a4f-b3c5-dc88653118f6"
      },
      "execution_count": 6,
      "outputs": [
        {
          "output_type": "stream",
          "name": "stdout",
          "text": [
            "n is positive\n"
          ]
        }
      ]
    },
    {
      "cell_type": "code",
      "source": [
        "#  loops, two types for and while\n",
        "# for\n",
        "n=[1,2,3,4,5]\n",
        "#for x in n:\n",
        " # print (x)\n",
        "\n",
        "for x in range(1,20,5): #1,2,3,4,5\n",
        "    print (x)\n"
      ],
      "metadata": {
        "colab": {
          "base_uri": "https://localhost:8080/"
        },
        "id": "U8b_NvzUJtwF",
        "outputId": "1a6f85b5-e443-445a-fc34-d37ee257aa1c"
      },
      "execution_count": 14,
      "outputs": [
        {
          "output_type": "stream",
          "name": "stdout",
          "text": [
            "1\n",
            "6\n",
            "11\n",
            "16\n"
          ]
        }
      ]
    },
    {
      "cell_type": "code",
      "source": [
        "# Countdown using a while loop\n",
        "count = 5\n",
        "while count > 0:\n",
        " print(count)\n",
        " if count == 20:\n",
        "    Break\n",
        "count=count + 1\n",
        "print(count)  # same as count=count-1 Decrement the count prints 5 4 3 2 1\n",
        " # how do i write the code if i want to print  till 20 ?\n",
        "\n"
      ],
      "metadata": {
        "id": "k6v9rBViLzOT"
      },
      "execution_count": null,
      "outputs": []
    },
    {
      "cell_type": "code",
      "source": [
        "for x in range (10):\n",
        "  if x % 2==1:\n",
        "   continue #break\n",
        "  print (x)"
      ],
      "metadata": {
        "colab": {
          "base_uri": "https://localhost:8080/"
        },
        "id": "jUd_zXQbMmDQ",
        "outputId": "d8a4f2d4-a7aa-4696-ed5e-ebf82eeb6e7f"
      },
      "execution_count": 29,
      "outputs": [
        {
          "output_type": "stream",
          "name": "stdout",
          "text": [
            "0\n",
            "2\n",
            "4\n",
            "6\n",
            "8\n"
          ]
        }
      ]
    },
    {
      "cell_type": "code",
      "source": [
        "name = input (\"enter your name: \")\n",
        "print (f\"hello, {name}\")\n",
        "\n",
        "age = int(input(\"enter your age: \"))\n",
        "print (f\"you are {age} years old\")\n"
      ],
      "metadata": {
        "colab": {
          "base_uri": "https://localhost:8080/"
        },
        "id": "YTM5WqbZOL2O",
        "outputId": "15fdc690-0fc4-4cdd-b69e-7460f33b7a58"
      },
      "execution_count": 31,
      "outputs": [
        {
          "output_type": "stream",
          "name": "stdout",
          "text": [
            "enter your name: sri\n",
            "hello, sri\n",
            "enter your age: 4\n",
            "you are 4 years old\n"
          ]
        }
      ]
    },
    {
      "cell_type": "code",
      "source": [
        "from ast import Break\n",
        "import random\n",
        "# Computer picks a random number between 1 and 10\n",
        "secret_number = random.randint(1, 10)\n",
        "# Player's guess\n",
        "while True:\n",
        " guess = int(input(\"Guess the number (between 1 and 10): \"))\n",
        "if guess == secret_number:\n",
        "   print(\"Correct! You guessed the number.\")\n",
        "   Break\n",
        "else:\n",
        " print(\"Try again!\")\n",
        " # print part not working"
      ],
      "metadata": {
        "colab": {
          "base_uri": "https://localhost:8080/",
          "height": 512
        },
        "id": "33BjIzDRPQ60",
        "outputId": "d3532ce5-30df-4e8c-ab3e-8b5f5e81db84"
      },
      "execution_count": 41,
      "outputs": [
        {
          "name": "stdout",
          "output_type": "stream",
          "text": [
            "Guess the number (between 1 and 10): 8\n",
            "Guess the number (between 1 and 10): 8\n",
            "Guess the number (between 1 and 10): 7\n",
            "Guess the number (between 1 and 10): 6\n",
            "Guess the number (between 1 and 10): 5\n",
            "Guess the number (between 1 and 10): 4\n",
            "Guess the number (between 1 and 10): 3\n",
            "Guess the number (between 1 and 10): 2\n",
            "Guess the number (between 1 and 10): 1\n"
          ]
        },
        {
          "output_type": "error",
          "ename": "KeyboardInterrupt",
          "evalue": "Interrupted by user",
          "traceback": [
            "\u001b[0;31m---------------------------------------------------------------------------\u001b[0m",
            "\u001b[0;31mKeyboardInterrupt\u001b[0m                         Traceback (most recent call last)",
            "\u001b[0;32m<ipython-input-41-13cb9cef03fd>\u001b[0m in \u001b[0;36m<cell line: 0>\u001b[0;34m()\u001b[0m\n\u001b[1;32m      4\u001b[0m \u001b[0;31m# Player's guess\u001b[0m\u001b[0;34m\u001b[0m\u001b[0;34m\u001b[0m\u001b[0m\n\u001b[1;32m      5\u001b[0m \u001b[0;32mwhile\u001b[0m \u001b[0;32mTrue\u001b[0m\u001b[0;34m:\u001b[0m\u001b[0;34m\u001b[0m\u001b[0;34m\u001b[0m\u001b[0m\n\u001b[0;32m----> 6\u001b[0;31m  \u001b[0mguess\u001b[0m \u001b[0;34m=\u001b[0m \u001b[0mint\u001b[0m\u001b[0;34m(\u001b[0m\u001b[0minput\u001b[0m\u001b[0;34m(\u001b[0m\u001b[0;34m\"Guess the number (between 1 and 10): \"\u001b[0m\u001b[0;34m)\u001b[0m\u001b[0;34m)\u001b[0m\u001b[0;34m\u001b[0m\u001b[0;34m\u001b[0m\u001b[0m\n\u001b[0m\u001b[1;32m      7\u001b[0m \u001b[0;34m\u001b[0m\u001b[0m\n\u001b[1;32m      8\u001b[0m  \u001b[0;32mif\u001b[0m \u001b[0mguess\u001b[0m \u001b[0;34m==\u001b[0m \u001b[0msecret_number\u001b[0m\u001b[0;34m:\u001b[0m\u001b[0;34m\u001b[0m\u001b[0;34m\u001b[0m\u001b[0m\n",
            "\u001b[0;32m/usr/local/lib/python3.11/dist-packages/ipykernel/kernelbase.py\u001b[0m in \u001b[0;36mraw_input\u001b[0;34m(self, prompt)\u001b[0m\n\u001b[1;32m   1175\u001b[0m                 \u001b[0;34m\"raw_input was called, but this frontend does not support input requests.\"\u001b[0m\u001b[0;34m\u001b[0m\u001b[0;34m\u001b[0m\u001b[0m\n\u001b[1;32m   1176\u001b[0m             )\n\u001b[0;32m-> 1177\u001b[0;31m         return self._input_request(\n\u001b[0m\u001b[1;32m   1178\u001b[0m             \u001b[0mstr\u001b[0m\u001b[0;34m(\u001b[0m\u001b[0mprompt\u001b[0m\u001b[0;34m)\u001b[0m\u001b[0;34m,\u001b[0m\u001b[0;34m\u001b[0m\u001b[0;34m\u001b[0m\u001b[0m\n\u001b[1;32m   1179\u001b[0m             \u001b[0mself\u001b[0m\u001b[0;34m.\u001b[0m\u001b[0m_parent_ident\u001b[0m\u001b[0;34m[\u001b[0m\u001b[0;34m\"shell\"\u001b[0m\u001b[0;34m]\u001b[0m\u001b[0;34m,\u001b[0m\u001b[0;34m\u001b[0m\u001b[0;34m\u001b[0m\u001b[0m\n",
            "\u001b[0;32m/usr/local/lib/python3.11/dist-packages/ipykernel/kernelbase.py\u001b[0m in \u001b[0;36m_input_request\u001b[0;34m(self, prompt, ident, parent, password)\u001b[0m\n\u001b[1;32m   1217\u001b[0m             \u001b[0;32mexcept\u001b[0m \u001b[0mKeyboardInterrupt\u001b[0m\u001b[0;34m:\u001b[0m\u001b[0;34m\u001b[0m\u001b[0;34m\u001b[0m\u001b[0m\n\u001b[1;32m   1218\u001b[0m                 \u001b[0;31m# re-raise KeyboardInterrupt, to truncate traceback\u001b[0m\u001b[0;34m\u001b[0m\u001b[0;34m\u001b[0m\u001b[0m\n\u001b[0;32m-> 1219\u001b[0;31m                 \u001b[0;32mraise\u001b[0m \u001b[0mKeyboardInterrupt\u001b[0m\u001b[0;34m(\u001b[0m\u001b[0;34m\"Interrupted by user\"\u001b[0m\u001b[0;34m)\u001b[0m \u001b[0;32mfrom\u001b[0m \u001b[0;32mNone\u001b[0m\u001b[0;34m\u001b[0m\u001b[0;34m\u001b[0m\u001b[0m\n\u001b[0m\u001b[1;32m   1220\u001b[0m             \u001b[0;32mexcept\u001b[0m \u001b[0mException\u001b[0m\u001b[0;34m:\u001b[0m\u001b[0;34m\u001b[0m\u001b[0;34m\u001b[0m\u001b[0m\n\u001b[1;32m   1221\u001b[0m                 \u001b[0mself\u001b[0m\u001b[0;34m.\u001b[0m\u001b[0mlog\u001b[0m\u001b[0;34m.\u001b[0m\u001b[0mwarning\u001b[0m\u001b[0;34m(\u001b[0m\u001b[0;34m\"Invalid Message:\"\u001b[0m\u001b[0;34m,\u001b[0m \u001b[0mexc_info\u001b[0m\u001b[0;34m=\u001b[0m\u001b[0;32mTrue\u001b[0m\u001b[0;34m)\u001b[0m\u001b[0;34m\u001b[0m\u001b[0;34m\u001b[0m\u001b[0m\n",
            "\u001b[0;31mKeyboardInterrupt\u001b[0m: Interrupted by user"
          ]
        }
      ]
    },
    {
      "cell_type": "code",
      "source": [
        "import random\n",
        "# Computer picks a random number between 1 and 10\n",
        "secret_number = random.randint(1, 10)\n",
        "# Player's guess\n",
        "while True:\n",
        " guess = int(input(\"Guess the number (between 1 and 10): \"))\n",
        "\n",
        " if guess == secret_number:\n",
        "  print(\"Correct! You guessed the number.\")\n",
        " break\n",
        "else:\n",
        "       print(\"Try again!\")  #print try again not working ??/"
      ],
      "metadata": {
        "colab": {
          "base_uri": "https://localhost:8080/"
        },
        "id": "vYoKjoY6VJ3I",
        "outputId": "9fc7c32e-4ad9-4c87-e58f-794b00239a75"
      },
      "execution_count": 50,
      "outputs": [
        {
          "name": "stdout",
          "output_type": "stream",
          "text": [
            "Guess the number (between 1 and 10): 8\n"
          ]
        }
      ]
    },
    {
      "cell_type": "code",
      "source": [
        "\n",
        "import random #Command to import packages (pre-made libraries of code)\n",
        "# Define the choices\n",
        "choices = [\"rock\", \"paper\", \"scissors\"]\n",
        "# Random choice for the computer\n",
        "computer_choice = random.choice(choices)\n",
        "# Player input\n",
        "player_choice = input(\"Enter rock, paper, or scissors: \").lower()\n",
        "# Determine the winner\n",
        "if player_choice == computer_choice:\n",
        " print(f\"Both chose {player_choice}. It's a tie!\")\n",
        "elif (player_choice == \"rock\" and computer_choice == \"scissors\") or \\\n",
        " (player_choice == \"scissors\" and computer_choice == \"paper\") or \\\n",
        " (player_choice == \"paper\" and computer_choice == \"rock\"):\n",
        " print(f\"You chose {player_choice} and the computer chose{computer_choice}. You win!\")\n",
        "else:\n",
        " print(f\"You chose {player_choice} and the computer chose{computer_choice}. You lose!\")\n"
      ],
      "metadata": {
        "colab": {
          "base_uri": "https://localhost:8080/"
        },
        "id": "r5Fu7gHbQS2x",
        "outputId": "a04743ae-d459-4b44-f21e-b70f2f2b85ac"
      },
      "execution_count": 38,
      "outputs": [
        {
          "output_type": "stream",
          "name": "stdout",
          "text": [
            "Enter rock, paper, or scissors: rock\n",
            "You chose rock and the computer chosescissors. You win!\n"
          ]
        }
      ]
    },
    {
      "cell_type": "code",
      "source": [
        "# task 1: Simple voting eligibility check\n",
        "age = int(input(\"Enter your age: \"))\n",
        "if age >= 18:\n",
        " print(\"You are eligible to vote!\")\n",
        "else:\n",
        " print(\"You are not eligible to vote yet.\")\n"
      ],
      "metadata": {
        "colab": {
          "base_uri": "https://localhost:8080/"
        },
        "id": "W2nY0VavRwBa",
        "outputId": "6e1c327e-1b51-4875-bdf1-20d8fce8727d"
      },
      "execution_count": 42,
      "outputs": [
        {
          "output_type": "stream",
          "name": "stdout",
          "text": [
            "Enter your age: 7\n",
            "You are not eligible to vote yet.\n"
          ]
        }
      ]
    },
    {
      "cell_type": "code",
      "source": [
        "#Task 2: Create a simple calculator\n",
        "#Task: Create a simple calculator that performs basic arithmetic operations\n",
        "number1 = int(input(\"Enter the first number: \"))\n",
        "number2 = int(input(\"Enter the second number: \"))\n",
        "operation = input(\"Enter the operation (+, -,*,/): \")\n",
        "if operation == \"+\":\n",
        " result = number1 + number2\n",
        " print(f\"result= {result}\")\n",
        "elif operation == \"-\":\n",
        " result = number1 - number2\n",
        " print(f\"result= {result}\")\n",
        "elif operation == \"*\":\n",
        " result=number1 * number2\n",
        " print(f\"result= {result}\")\n",
        "elif operation == \"/\":\n",
        "  result = number1 / number2\n",
        "  print(f\"result= {result}\")\n",
        "else:\n",
        "  print(\"operation not valid\")\n",
        "\n"
      ],
      "metadata": {
        "colab": {
          "base_uri": "https://localhost:8080/"
        },
        "collapsed": true,
        "id": "Fot9xsWpS7r4",
        "outputId": "4efeba5d-1a29-462e-9010-ae1750d63d2d"
      },
      "execution_count": 63,
      "outputs": [
        {
          "output_type": "stream",
          "name": "stdout",
          "text": [
            "Enter the first number: 8\n",
            "Enter the second number: 9\n",
            "Enter the operation (+, -,*,/): =\n",
            "operation not valid\n"
          ]
        }
      ]
    },
    {
      "cell_type": "code",
      "source": [
        "#1. Find the Maximum and Minimum of a List\n",
        "# Question: Given a list of numbers, find the maximum and minimum value\n",
        "lists=[9,10,15,5,3,19,80,100]\n",
        "min_num=min(lists)\n",
        "max_num=max(lists)\n",
        "print(f\"min_num= {min_num}\")\n",
        "print(f\"max_num= {max_num}\")"
      ],
      "metadata": {
        "colab": {
          "base_uri": "https://localhost:8080/"
        },
        "id": "czp6-wfceA1x",
        "outputId": "11258334-a618-4370-f11b-6608ecc7362c"
      },
      "execution_count": 64,
      "outputs": [
        {
          "output_type": "stream",
          "name": "stdout",
          "text": [
            "min_num= 3\n",
            "max_num= 100\n"
          ]
        }
      ]
    },
    {
      "cell_type": "code",
      "source": [
        "#Compute the factorial of a given number using recursion.\n"
      ],
      "metadata": {
        "id": "LzaH-kurglzU"
      },
      "execution_count": null,
      "outputs": []
    },
    {
      "cell_type": "code",
      "source": [
        "import numpy as np\n",
        "import pandas as pd\n",
        "# Check the versions to confirm installation\n",
        "print(\"NumPy version:\", np.__version__) # Output the version of NumPy\n",
        "print(\"Pandas version:\", pd.__version__) # Output the version of\n",
        "\n",
        "\n"
      ],
      "metadata": {
        "colab": {
          "base_uri": "https://localhost:8080/"
        },
        "id": "VW_PM-Wyivb5",
        "outputId": "78943600-0d50-433e-8991-172564c4ed8d"
      },
      "execution_count": 66,
      "outputs": [
        {
          "output_type": "stream",
          "name": "stdout",
          "text": [
            "NumPy version: 2.0.2\n",
            "Pandas version: 2.2.2\n"
          ]
        }
      ]
    },
    {
      "cell_type": "code",
      "source": [
        "# Creating a simple 1D array\n",
        "arr = np.array([1, 2, 3, 4, 5]) # creates a NumPy array.\n",
        "print(arr)\n",
        "\n",
        "arr1 = np.array([1, 2, 3]) # First array\n",
        "arr2 = np.array([4, 5, 6]) # Second array\n",
        "# Performing element-wise addition\n",
        "arr_sum = arr1 + arr2 # Adds corresponding elements in arr1 and arr2\n",
        "print(\"Element-wise Addition:\", arr_sum)\n",
        "arr_diff = arr1 - arr2 # Subtracts corresponding elements in arr2from arr1\n",
        "print(\"Element-wise Subtraction:\", arr_diff) # Output: [-3 -3 -3]\n",
        "\n",
        "print(arr.ndim) # Output: 1, because it's a 1D array\n",
        "print(arr.shape)"
      ],
      "metadata": {
        "colab": {
          "base_uri": "https://localhost:8080/"
        },
        "id": "Rim7qC_VsFj6",
        "outputId": "53209d27-804c-44b6-f347-309d40c4aa71"
      },
      "execution_count": 71,
      "outputs": [
        {
          "output_type": "stream",
          "name": "stdout",
          "text": [
            "[1 2 3 4 5]\n",
            "Element-wise Addition: [5 7 9]\n",
            "Element-wise Subtraction: [-3 -3 -3]\n",
            "1\n",
            "(5,)\n"
          ]
        }
      ]
    },
    {
      "cell_type": "code",
      "source": [
        "import pandas as pd # Importing pandas\n",
        "# Creating a Series\n",
        "data = [10, 20, 30, 40] # Sample data for the Series\n",
        "series = pd.Series(data) # Creating a Series from the list\n",
        "print(\"Pandas Series:\")\n",
        "print(series)"
      ],
      "metadata": {
        "colab": {
          "base_uri": "https://localhost:8080/"
        },
        "id": "paYYna33tFER",
        "outputId": "d72a2e14-41c8-4cb3-e1fd-acb9f5d5b8f1"
      },
      "execution_count": 72,
      "outputs": [
        {
          "output_type": "stream",
          "name": "stdout",
          "text": [
            "Pandas Series:\n",
            "0    10\n",
            "1    20\n",
            "2    30\n",
            "3    40\n",
            "dtype: int64\n"
          ]
        }
      ]
    },
    {
      "cell_type": "code",
      "source": [
        "data_dict = {\n",
        " 'Name': ['Alice', 'Bob', 'Charlie'], # Names of individuals\n",
        " 'Age': [25, 30, 35], # Corresponding ages\n",
        " 'City': ['New York', 'Los Angeles', 'Chicago'] # Correspondingcities\n",
        "}\n",
        "df = pd.DataFrame(data_dict) # Creating a DataFrame from thedictionary\n",
        "print(\"\\nPandas DataFrame:\")\n",
        "print(df)"
      ],
      "metadata": {
        "colab": {
          "base_uri": "https://localhost:8080/"
        },
        "id": "_TKYVLl8tfaS",
        "outputId": "907d3581-a885-40d1-a94d-e50104b6de05"
      },
      "execution_count": 76,
      "outputs": [
        {
          "output_type": "stream",
          "name": "stdout",
          "text": [
            "\n",
            "Pandas DataFrame:\n",
            "      Name  Age         City\n",
            "0    Alice   25     New York\n",
            "1      Bob   30  Los Angeles\n",
            "2  Charlie   35      Chicago\n"
          ]
        }
      ]
    },
    {
      "cell_type": "code",
      "source": [],
      "metadata": {
        "id": "Fnu1Mqqit5Ta"
      },
      "execution_count": null,
      "outputs": []
    }
  ]
}