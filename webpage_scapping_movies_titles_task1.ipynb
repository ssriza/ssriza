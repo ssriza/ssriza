{
  "nbformat": 4,
  "nbformat_minor": 0,
  "metadata": {
    "colab": {
      "provenance": []
    },
    "kernelspec": {
      "name": "python3",
      "display_name": "Python 3"
    },
    "language_info": {
      "name": "python"
    }
  },
  "cells": [
    {
      "cell_type": "code",
      "execution_count": 2,
      "metadata": {
        "id": "H3CmuqgfRX8U"
      },
      "outputs": [],
      "source": [
        "import requests\n",
        "from bs4 import BeautifulSoup\n",
        "import pandas as pd"
      ]
    },
    {
      "cell_type": "code",
      "source": [
        "# Define the URL of the IMDb Top 250 movies page\n",
        "url = 'https://www.imdb.com/chart/top/'\n",
        "# Send an HTTP GET request to fetch the page content\n",
        "response = requests.get(url)\n",
        "response\n"
      ],
      "metadata": {
        "colab": {
          "base_uri": "https://localhost:8080/"
        },
        "id": "upiwu0asR2qs",
        "outputId": "dbd03e76-4fda-4994-c163-bb86c3b6e2f1"
      },
      "execution_count": 6,
      "outputs": [
        {
          "output_type": "execute_result",
          "data": {
            "text/plain": [
              "<Response [403]>"
            ]
          },
          "metadata": {},
          "execution_count": 6
        }
      ]
    },
    {
      "cell_type": "code",
      "source": [
        "headers = {\n",
        " 'User-Agent': 'Mozilla/5.0 (Windows NT 10.0; Win64; x64)AppleWebKit/537.36 (KHTML, like Gecko) Chrome/91.0.4472.124Safari/537.36'\n",
        "}\n",
        "# Send an HTTP GET request with the headers\n",
        "response = requests.get(url, headers=headers)\n",
        "response\n"
      ],
      "metadata": {
        "colab": {
          "base_uri": "https://localhost:8080/"
        },
        "id": "arpWmczHS5B8",
        "outputId": "367da85f-2fc1-4715-c9a0-80eddfadc7f2"
      },
      "execution_count": 8,
      "outputs": [
        {
          "output_type": "execute_result",
          "data": {
            "text/plain": [
              "<Response [200]>"
            ]
          },
          "metadata": {},
          "execution_count": 8
        }
      ]
    },
    {
      "cell_type": "code",
      "source": [
        "if response.status_code==200:\n",
        "  print(\"Success\")\n",
        "else:\n",
        "  print(\"Failed\")"
      ],
      "metadata": {
        "colab": {
          "base_uri": "https://localhost:8080/"
        },
        "id": "NB6_NMCJTI61",
        "outputId": "15e1cdfc-71ee-4d08-d741-95eb55ea8b49"
      },
      "execution_count": 9,
      "outputs": [
        {
          "output_type": "stream",
          "name": "stdout",
          "text": [
            "Success\n"
          ]
        }
      ]
    },
    {
      "cell_type": "code",
      "source": [
        "soup = BeautifulSoup(response.content, 'html.parser')\n",
        "#soup\n",
        "\n",
        "print(soup.prettify())\n",
        "#print(soup.prettify()[:2000]), what is the use of :2000 here"
      ],
      "metadata": {
        "collapsed": true,
        "id": "tkUp0UAIToM5"
      },
      "execution_count": null,
      "outputs": []
    },
    {
      "cell_type": "code",
      "source": [
        "# Create empty lists to store movie titles, years, ratings, and URLs\n",
        "titles = []\n",
        "years = []\n",
        "ratings = []\n",
        "urls = []\n",
        "# Find all the movie items in the HTML\n",
        "movie_items = soup.find_all('item')\n",
        "movie_items"
      ],
      "metadata": {
        "colab": {
          "base_uri": "https://localhost:8080/"
        },
        "id": "liMbf5jTU5jn",
        "outputId": "91bb86ac-5b6e-499c-e5f6-9de17d3fc628"
      },
      "execution_count": 14,
      "outputs": [
        {
          "output_type": "execute_result",
          "data": {
            "text/plain": [
              "[]"
            ]
          },
          "metadata": {},
          "execution_count": 14
        }
      ]
    },
    {
      "cell_type": "code",
      "source": [
        "# Loop through the rows to extract movie information\n",
        "for row in movie_items:\n",
        "    title_column = row.find('td', class_='titleColumn')\n",
        "    if title_column: # Check if title_column is not None\n",
        "       title = title_column.a.text # Get the movie title\n",
        "       titles.append(title) # Append title to the list\n",
        " # Extract year\n",
        "       year = title_column.span.text.strip('()') # Removeparentheses\n",
        "       years.append(year) # Append year to the list\n",
        " # Extract rating\n",
        "       rating_column = row.find('td', class_='ratingColumnimdbRating')\n",
        "    if rating_column:\n",
        "        rating = rating_column.strong.text # Get the rating\n",
        "        ratings.append(rating) # Append rating to the l"
      ],
      "metadata": {
        "id": "HHJdCNqUVF-N"
      },
      "execution_count": 16,
      "outputs": []
    },
    {
      "cell_type": "code",
      "source": [
        "print(\"Titles:\", titles[:5])\n",
        "print(\"Years:\", years[:5])\n",
        "print(\"Ratings:\", ratings[:5])"
      ],
      "metadata": {
        "colab": {
          "base_uri": "https://localhost:8080/"
        },
        "id": "XvpCll9cWuls",
        "outputId": "5b3853c7-579e-40c7-e44f-8460386eb72c"
      },
      "execution_count": 17,
      "outputs": [
        {
          "output_type": "stream",
          "name": "stdout",
          "text": [
            "Titles: []\n",
            "Years: []\n",
            "Ratings: []\n"
          ]
        }
      ]
    },
    {
      "cell_type": "code",
      "source": [
        "print(soup.prettify()[:2000]) ## Print the first 500 characters of theprettified HTML\n"
      ],
      "metadata": {
        "id": "9VUWo4xcaOVx"
      },
      "execution_count": null,
      "outputs": []
    },
    {
      "cell_type": "code",
      "source": [
        "import json\n",
        "json_data = soup.find('script', type='application/ld+json')\n",
        "if json_data:\n",
        " # Parse the JSON data\n",
        " data = json.loads(json_data.string)\n",
        "#data # observe data\n",
        "# Extract titles and ratings\n",
        "titles = []\n",
        "urls = []\n",
        "descriptions = []\n",
        "best_ratings = []\n",
        "worst_ratings = []\n",
        "ratings = []\n",
        "genres = []\n",
        "durations = []\n"
      ],
      "metadata": {
        "id": "Fa-YxKadaxDH"
      },
      "execution_count": 20,
      "outputs": []
    },
    {
      "cell_type": "code",
      "source": [
        "if 'itemListElement' in data:\n",
        " for item in data['itemListElement']:\n",
        "     movie = item['item']\n",
        "\n",
        " # Extract movie details\n",
        " titles.append(movie['name']) # Movie name\n",
        " urls.append(movie['url']) # Movie URL\n",
        " descriptions.append(movie['description']) # Movie description\n",
        "\n",
        " # Extract ratings (best, worst, actual rating)\n",
        " best_ratings.append(movie['aggregateRating']['bestRating']) #Best rating\n",
        " worst_ratings.append(movie['aggregateRating']['worstRating'])\n",
        "# Worst rating\n",
        " ratings.append(float(movie['aggregateRating']['ratingValue']))\n",
        "# Rating value\n",
        "\n",
        " genres.append(movie['genre']) # Movie genre\n",
        " durations.append(movie['duration']) # Movie duration"
      ],
      "metadata": {
        "id": "Ku4S8OZubChP"
      },
      "execution_count": 21,
      "outputs": []
    },
    {
      "cell_type": "code",
      "source": [
        "df = pd.DataFrame({\n",
        " 'Title': titles,\n",
        " 'URL': urls,\n",
        " 'Description': descriptions,\n",
        " 'Best Rating': best_ratings,\n",
        " 'Worst Rating': worst_ratings,\n",
        " 'Rating': ratings,\n",
        " 'Genre': genres,\n",
        " 'Duration': durations\n",
        "})\n",
        "# Print the first few rows of the DataFrame\n",
        "df.head()"
      ],
      "metadata": {
        "colab": {
          "base_uri": "https://localhost:8080/",
          "height": 81
        },
        "id": "s-4_qdqabQc3",
        "outputId": "09d3d63e-2c31-4d62-a4fb-a3c0431cdac5"
      },
      "execution_count": 23,
      "outputs": [
        {
          "output_type": "execute_result",
          "data": {
            "text/plain": [
              "                                          Title  \\\n",
              "0  Gekijô-ban Kimetsu no Yaiba Mugen Ressha-hen   \n",
              "\n",
              "                                      URL  \\\n",
              "0  https://www.imdb.com/title/tt11032374/   \n",
              "\n",
              "                                         Description  Best Rating  \\\n",
              "0  After his family was brutally murdered and his...           10   \n",
              "\n",
              "   Worst Rating  Rating                         Genre Duration  \n",
              "0             1     8.2  Animation, Action, Adventure  PT1H57M  "
            ],
            "text/html": [
              "\n",
              "  <div id=\"df-33fdef10-a17e-47f9-87bf-adf96f37c593\" class=\"colab-df-container\">\n",
              "    <div>\n",
              "<style scoped>\n",
              "    .dataframe tbody tr th:only-of-type {\n",
              "        vertical-align: middle;\n",
              "    }\n",
              "\n",
              "    .dataframe tbody tr th {\n",
              "        vertical-align: top;\n",
              "    }\n",
              "\n",
              "    .dataframe thead th {\n",
              "        text-align: right;\n",
              "    }\n",
              "</style>\n",
              "<table border=\"1\" class=\"dataframe\">\n",
              "  <thead>\n",
              "    <tr style=\"text-align: right;\">\n",
              "      <th></th>\n",
              "      <th>Title</th>\n",
              "      <th>URL</th>\n",
              "      <th>Description</th>\n",
              "      <th>Best Rating</th>\n",
              "      <th>Worst Rating</th>\n",
              "      <th>Rating</th>\n",
              "      <th>Genre</th>\n",
              "      <th>Duration</th>\n",
              "    </tr>\n",
              "  </thead>\n",
              "  <tbody>\n",
              "    <tr>\n",
              "      <th>0</th>\n",
              "      <td>Gekijô-ban Kimetsu no Yaiba Mugen Ressha-hen</td>\n",
              "      <td>https://www.imdb.com/title/tt11032374/</td>\n",
              "      <td>After his family was brutally murdered and his...</td>\n",
              "      <td>10</td>\n",
              "      <td>1</td>\n",
              "      <td>8.2</td>\n",
              "      <td>Animation, Action, Adventure</td>\n",
              "      <td>PT1H57M</td>\n",
              "    </tr>\n",
              "  </tbody>\n",
              "</table>\n",
              "</div>\n",
              "    <div class=\"colab-df-buttons\">\n",
              "\n",
              "  <div class=\"colab-df-container\">\n",
              "    <button class=\"colab-df-convert\" onclick=\"convertToInteractive('df-33fdef10-a17e-47f9-87bf-adf96f37c593')\"\n",
              "            title=\"Convert this dataframe to an interactive table.\"\n",
              "            style=\"display:none;\">\n",
              "\n",
              "  <svg xmlns=\"http://www.w3.org/2000/svg\" height=\"24px\" viewBox=\"0 -960 960 960\">\n",
              "    <path d=\"M120-120v-720h720v720H120Zm60-500h600v-160H180v160Zm220 220h160v-160H400v160Zm0 220h160v-160H400v160ZM180-400h160v-160H180v160Zm440 0h160v-160H620v160ZM180-180h160v-160H180v160Zm440 0h160v-160H620v160Z\"/>\n",
              "  </svg>\n",
              "    </button>\n",
              "\n",
              "  <style>\n",
              "    .colab-df-container {\n",
              "      display:flex;\n",
              "      gap: 12px;\n",
              "    }\n",
              "\n",
              "    .colab-df-convert {\n",
              "      background-color: #E8F0FE;\n",
              "      border: none;\n",
              "      border-radius: 50%;\n",
              "      cursor: pointer;\n",
              "      display: none;\n",
              "      fill: #1967D2;\n",
              "      height: 32px;\n",
              "      padding: 0 0 0 0;\n",
              "      width: 32px;\n",
              "    }\n",
              "\n",
              "    .colab-df-convert:hover {\n",
              "      background-color: #E2EBFA;\n",
              "      box-shadow: 0px 1px 2px rgba(60, 64, 67, 0.3), 0px 1px 3px 1px rgba(60, 64, 67, 0.15);\n",
              "      fill: #174EA6;\n",
              "    }\n",
              "\n",
              "    .colab-df-buttons div {\n",
              "      margin-bottom: 4px;\n",
              "    }\n",
              "\n",
              "    [theme=dark] .colab-df-convert {\n",
              "      background-color: #3B4455;\n",
              "      fill: #D2E3FC;\n",
              "    }\n",
              "\n",
              "    [theme=dark] .colab-df-convert:hover {\n",
              "      background-color: #434B5C;\n",
              "      box-shadow: 0px 1px 3px 1px rgba(0, 0, 0, 0.15);\n",
              "      filter: drop-shadow(0px 1px 2px rgba(0, 0, 0, 0.3));\n",
              "      fill: #FFFFFF;\n",
              "    }\n",
              "  </style>\n",
              "\n",
              "    <script>\n",
              "      const buttonEl =\n",
              "        document.querySelector('#df-33fdef10-a17e-47f9-87bf-adf96f37c593 button.colab-df-convert');\n",
              "      buttonEl.style.display =\n",
              "        google.colab.kernel.accessAllowed ? 'block' : 'none';\n",
              "\n",
              "      async function convertToInteractive(key) {\n",
              "        const element = document.querySelector('#df-33fdef10-a17e-47f9-87bf-adf96f37c593');\n",
              "        const dataTable =\n",
              "          await google.colab.kernel.invokeFunction('convertToInteractive',\n",
              "                                                    [key], {});\n",
              "        if (!dataTable) return;\n",
              "\n",
              "        const docLinkHtml = 'Like what you see? Visit the ' +\n",
              "          '<a target=\"_blank\" href=https://colab.research.google.com/notebooks/data_table.ipynb>data table notebook</a>'\n",
              "          + ' to learn more about interactive tables.';\n",
              "        element.innerHTML = '';\n",
              "        dataTable['output_type'] = 'display_data';\n",
              "        await google.colab.output.renderOutput(dataTable, element);\n",
              "        const docLink = document.createElement('div');\n",
              "        docLink.innerHTML = docLinkHtml;\n",
              "        element.appendChild(docLink);\n",
              "      }\n",
              "    </script>\n",
              "  </div>\n",
              "\n",
              "\n",
              "    </div>\n",
              "  </div>\n"
            ],
            "application/vnd.google.colaboratory.intrinsic+json": {
              "type": "dataframe",
              "variable_name": "df",
              "summary": "{\n  \"name\": \"df\",\n  \"rows\": 1,\n  \"fields\": [\n    {\n      \"column\": \"Title\",\n      \"properties\": {\n        \"dtype\": \"string\",\n        \"num_unique_values\": 1,\n        \"samples\": [\n          \"Gekij\\u00f4-ban Kimetsu no Yaiba Mugen Ressha-hen\"\n        ],\n        \"semantic_type\": \"\",\n        \"description\": \"\"\n      }\n    },\n    {\n      \"column\": \"URL\",\n      \"properties\": {\n        \"dtype\": \"string\",\n        \"num_unique_values\": 1,\n        \"samples\": [\n          \"https://www.imdb.com/title/tt11032374/\"\n        ],\n        \"semantic_type\": \"\",\n        \"description\": \"\"\n      }\n    },\n    {\n      \"column\": \"Description\",\n      \"properties\": {\n        \"dtype\": \"string\",\n        \"num_unique_values\": 1,\n        \"samples\": [\n          \"After his family was brutally murdered and his sister turned into a demon, Tanjiro Kamado&apos;s journey as a demon slayer began. Tanjiro and his comrades embark on a new mission aboard the Mugen Train, on track to despair.\"\n        ],\n        \"semantic_type\": \"\",\n        \"description\": \"\"\n      }\n    },\n    {\n      \"column\": \"Best Rating\",\n      \"properties\": {\n        \"dtype\": \"number\",\n        \"std\": null,\n        \"min\": 10,\n        \"max\": 10,\n        \"num_unique_values\": 1,\n        \"samples\": [\n          10\n        ],\n        \"semantic_type\": \"\",\n        \"description\": \"\"\n      }\n    },\n    {\n      \"column\": \"Worst Rating\",\n      \"properties\": {\n        \"dtype\": \"number\",\n        \"std\": null,\n        \"min\": 1,\n        \"max\": 1,\n        \"num_unique_values\": 1,\n        \"samples\": [\n          1\n        ],\n        \"semantic_type\": \"\",\n        \"description\": \"\"\n      }\n    },\n    {\n      \"column\": \"Rating\",\n      \"properties\": {\n        \"dtype\": \"number\",\n        \"std\": null,\n        \"min\": 8.2,\n        \"max\": 8.2,\n        \"num_unique_values\": 1,\n        \"samples\": [\n          8.2\n        ],\n        \"semantic_type\": \"\",\n        \"description\": \"\"\n      }\n    },\n    {\n      \"column\": \"Genre\",\n      \"properties\": {\n        \"dtype\": \"string\",\n        \"num_unique_values\": 1,\n        \"samples\": [\n          \"Animation, Action, Adventure\"\n        ],\n        \"semantic_type\": \"\",\n        \"description\": \"\"\n      }\n    },\n    {\n      \"column\": \"Duration\",\n      \"properties\": {\n        \"dtype\": \"string\",\n        \"num_unique_values\": 1,\n        \"samples\": [\n          \"PT1H57M\"\n        ],\n        \"semantic_type\": \"\",\n        \"description\": \"\"\n      }\n    }\n  ]\n}"
            }
          },
          "metadata": {},
          "execution_count": 23
        }
      ]
    },
    {
      "cell_type": "code",
      "source": [
        "df.to_csv('topIMBDmovies.csv', index=False) # Setting index=Falseexcludes the row index from being written to the file.\n",
        "print(\"Data saved in CSV format'\")"
      ],
      "metadata": {
        "colab": {
          "base_uri": "https://localhost:8080/"
        },
        "id": "Shjs4Cz1bgjc",
        "outputId": "af77e2f5-f1de-4774-c726-1359ddcaf6d2"
      },
      "execution_count": 24,
      "outputs": [
        {
          "output_type": "stream",
          "name": "stdout",
          "text": [
            "Data saved in CSV format'\n"
          ]
        }
      ]
    }
  ]
}