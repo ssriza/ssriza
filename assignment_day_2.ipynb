{
 "cells": [
  {
   "cell_type": "code",
   "execution_count": 1,
   "id": "c72bebaa-784c-477d-823a-c176973b0e25",
   "metadata": {},
   "outputs": [
    {
     "name": "stdin",
     "output_type": "stream",
     "text": [
      "Enter your age:  6\n"
     ]
    },
    {
     "name": "stdout",
     "output_type": "stream",
     "text": [
      "You are not eligible to vote yet.\n"
     ]
    }
   ],
   "source": [
    "# task 1: Simple voting eligibility check\n",
    "age = int(input(\"Enter your age: \"))\n",
    "if age >= 18:\n",
    " print(\"You are eligible to vote!\")\n",
    "else:\n",
    " print(\"You are not eligible to vote yet.\")"
   ]
  },
  {
   "cell_type": "code",
   "execution_count": null,
   "id": "d1a955f8-5a85-4533-bded-6be3a32ddeb5",
   "metadata": {},
   "outputs": [],
   "source": [
    "#Task 2: Create a simple calculator\n",
    "#Task: Create a simple calculator that performs basic arithmetic operations\n",
    "number1 = int(input(\"Enter the first number: \"))\n",
    "number2 = int(input(\"Enter the second number: \"))\n",
    "operation = input(\"Enter the operation (+, -,*,/): \")\n",
    "if operation == \"+\":\n",
    " result = number1 + number2\n",
    " print(f\"result= {result}\")\n",
    "elif operation == \"-\":\n",
    " result = number1 - number2\n",
    " print(f\"result= {result}\")\n",
    "elif operation == \"*\":\n",
    " result=number1 * number2\n",
    " print(f\"result= {result}\")\n",
    "elif operation == \"/\":\n",
    "  result = number1 / number2\n",
    "  print(f\"result= {result}\")\n",
    "else:\n",
    "  print(\"operation not valid\")\n"
   ]
  }
 ],
 "metadata": {
  "kernelspec": {
   "display_name": "Python [conda env:base] *",
   "language": "python",
   "name": "conda-base-py"
  },
  "language_info": {
   "codemirror_mode": {
    "name": "ipython",
    "version": 3
   },
   "file_extension": ".py",
   "mimetype": "text/x-python",
   "name": "python",
   "nbconvert_exporter": "python",
   "pygments_lexer": "ipython3",
   "version": "3.12.7"
  }
 },
 "nbformat": 4,
 "nbformat_minor": 5
}
