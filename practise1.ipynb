{
 "cells": [
  {
   "cell_type": "code",
   "execution_count": 6,
   "id": "ce8489ef-885d-4e1a-946a-2509e9262726",
   "metadata": {},
   "outputs": [
    {
     "name": "stdout",
     "output_type": "stream",
     "text": [
      "50\n",
      "30.5\n"
     ]
    }
   ],
   "source": [
    "# Task 1: Variable Assignment\n",
    "\n",
    "a=50\n",
    "b=30.5\n",
    "print (a)\n",
    "print(b)\n"
   ]
  },
  {
   "cell_type": "code",
   "execution_count": 8,
   "id": "ab7c45af",
   "metadata": {},
   "outputs": [
    {
     "name": "stdout",
     "output_type": "stream",
     "text": [
      "Addition: 80.5\n",
      "Subtraction: 19.5\n",
      "Multiplication: 1525.0\n",
      "Division: 1.639344262295082\n",
      "Floor Division: 1.0\n",
      "Modulus: 19.5\n",
      "Exponentiation: 6.585445079827192e+51\n",
      "is a greater than b? True\n"
     ]
    }
   ],
   "source": [
    "# Task 2: Operators\n",
    "a=50\n",
    "b=30.5\n",
    "print(\"Addition:\", a + b)\n",
    "print(\"Subtraction:\", a - b)\n",
    "print(\"Multiplication:\", a * b)\n",
    "print(\"Division:\", a / b)\n",
    "print(\"Floor Division:\", a // b)\n",
    "print(\"Modulus:\", a % b)\n",
    "print(\"Exponentiation:\", a ** b)\n",
    "\n",
    "print(\"is a greater than b?\", a>b)\n"
   ]
  },
  {
   "cell_type": "code",
   "execution_count": null,
   "id": "e475fcd7-cc5d-4044-aa1e-23583d19661e",
   "metadata": {},
   "outputs": [],
   "source": [
    ">>> spam='ram'\n",
    ">>> spam\n",
    "'ram'\n",
    ">>> spot=\"ram\"\n",
    ">>> spot\n",
    "'ram'\n",
    ">>> print(spot)\n",
    "ram\n",
    ">>> print(spam)\n",
    "ram\n",
    ">>> 'doesn\\'t'  # use \\' to escape the single quote...\n",
    "\"doesn't\"\n",
    ">>>\n",
    ">>> \"doesn't\"  # ...or use double quotes instead\n",
    "\"doesn't\"\n",
    ">>>\n",
    ">>> '\"Yes,\" they said.'\n",
    "'\"Yes,\" they said.'\n",
    ">>>\n",
    ">>> \"\\\"Yes,\\\" they said.\"\n",
    "'\"Yes,\" they said.'\n",
    ">>>\n",
    ">>> '\"Isn\\'t,\" they said.'\n",
    "'\"Isn\\'t,\" they said.'\n",
    ">>> print('c:\\some\\name')\n",
    "<python-input-15>:1: SyntaxWarning: invalid escape sequence '\\s'\n",
    "c:\\some\n",
    "ame\n",
    ">>> print('C:\\some\\name')\n",
    "<python-input-16>:1: SyntaxWarning: invalid escape sequence '\\s'\n",
    "C:\\some\n",
    "ame\n",
    ">>> print(r'C:\\some\\name')\n",
    "C:\\some\\name\n",
    ">>> cubes = [1, 8, 27, 65, 125]  # something's wrong here\n",
    ">>> 4 ** 3  # the cube of 4 is 64, not 65!\n",
    "64\n",
    ">>>\n",
    ">>> cubes[3] = 64  # replace the wrong value\n",
    ">>> cubes\n",
    "[1, 8, 27, 64, 125]\n",
    ">>> rgb = [\"Red\", \"Green\", \"Blue\"]\n",
    ">>> rgba = rgb\n",
    ">>> id(rgb) == id(rgba)  # they reference the same object\n",
    "True\n",
    ">>>\n",
    ">>> rgba.append(\"Alph\")\n",
    ">>> rgb\n",
    "['Red', 'Green', 'Blue', 'Alph']\n",
    ">>> correct_rgba = rgba[:]\n",
    ">>> correct_rgba[-1] = \"Alpha\"\n",
    ">>> correct_rgba\n",
    "['Red', 'Green', 'Blue', 'Alpha']\n",
    ">>> correct_rgba = rgba[:]\n",
    ">>> correct_rgba[-1] = \"Alpha\"\n",
    ">>> correct_rgba\n",
    "['Red', 'Green', 'Blue', 'Alpha']\n",
    ">>> letters = ['a', 'b', 'c', 'd', 'e', 'f', 'g']\n",
    ">>> letters\n",
    "['a', 'b', 'c', 'd', 'e', 'f', 'g']\n",
    ">>>\n",
    ">>> # replace some values\n",
    ">>> letters[2:5] = ['C', 'D', 'E']\n",
    ">>> letters\n",
    "['a', 'b', 'C', 'D', 'E', 'f', 'g']\n",
    ">>>\n",
    ">>> # now remove them\n",
    ">>> letters[2:5] = []\n",
    ">>> letters\n",
    "['a', 'b', 'f', 'g']\n",
    ">>>\n",
    ">>> # clear the list by replacing all the elements with an empty list\n",
    ">>> letters[:] = []\n",
    ">>> letters\n",
    "[]\n",
    ">>> letters = ['a', 'b', 'c', 'd']\n",
    ">>> len(letters)\n",
    "4\n",
    "\n"
   ]
  },
  {
   "cell_type": "code",
   "execution_count": 14,
   "id": "d9955981-ce78-48b0-a6b4-9c0e4ffba24d",
   "metadata": {},
   "outputs": [
    {
     "data": {
      "text/plain": [
       "'b'"
      ]
     },
     "execution_count": 14,
     "metadata": {},
     "output_type": "execute_result"
    }
   ],
   "source": [
    "a = ['a', 'b', 'c']\n",
    "n = [1, 2, 3]\n",
    "x = [a, n]\n",
    "x\n",
    "x[0]\n",
    "x[0][1]\n",
    "#not clear need to ask ram"
   ]
  },
  {
   "cell_type": "code",
   "execution_count": 16,
   "id": "b5bc237c-1906-4a89-a120-c52954fddcc8",
   "metadata": {},
   "outputs": [
    {
     "name": "stdout",
     "output_type": "stream",
     "text": [
      "0\n",
      "1\n",
      "1\n",
      "2\n",
      "3\n",
      "5\n",
      "8\n"
     ]
    }
   ],
   "source": [
    "a, b = 0, 1\n",
    "while a < 10:\n",
    "    print(a)\n",
    "    a,b=b, a+b\n",
    "    "
   ]
  },
  {
   "cell_type": "code",
   "execution_count": 17,
   "id": "91111e4c-02a4-4638-973d-057f4d79714f",
   "metadata": {},
   "outputs": [
    {
     "name": "stdout",
     "output_type": "stream",
     "text": [
      "The value of i is 65536\n"
     ]
    }
   ],
   "source": [
    "i = 256*256\n",
    "print('The value of i is', i)"
   ]
  },
  {
   "cell_type": "code",
   "execution_count": 18,
   "id": "b2a15808-40d4-4d3c-a9c4-0ba3db4ec669",
   "metadata": {},
   "outputs": [
    {
     "name": "stdout",
     "output_type": "stream",
     "text": [
      "0,1,1,2,3,5,8,13,21,34,55,89,144,233,377,610,987,"
     ]
    }
   ],
   "source": [
    "a, b = 0, 1\n",
    "while a < 1000:\n",
    "    print(a, end=',')\n",
    "    a, b = b, a+b"
   ]
  },
  {
   "cell_type": "code",
   "execution_count": 20,
   "id": "58414ba5-298b-48c2-92f2-81f6211d928b",
   "metadata": {},
   "outputs": [
    {
     "name": "stdout",
     "output_type": "stream",
     "text": [
      "25.0\n"
     ]
    }
   ],
   "source": [
    "#convert to float from int\n",
    "age = 25\n",
    "age_float = float(age)\n",
    "print(age_float)\n"
   ]
  },
  {
   "cell_type": "code",
   "execution_count": 29,
   "id": "948d37d7-b5ca-42f7-8ea4-e89b38dfd8e7",
   "metadata": {},
   "outputs": [
    {
     "name": "stdout",
     "output_type": "stream",
     "text": [
      " a is {a} and b is {b}\n",
      " a is 10 and b is 23\n",
      "a is 10 and b is 23 and their sum is 33\n",
      "a is 10 and b is 23 and their sum is 33\n"
     ]
    }
   ],
   "source": [
    "a = 10\n",
    "b = 23\n",
    "# print the values using an f string (formatted string literals)\n",
    "print(\" a is {a} and b is {b}\") #a is {a} and b is {b} just prints as it is \n",
    "print(f\" a is {a} and b is {b}\") #a is 10 and b is 23\n",
    "print(\"a is {} and b is {} and their sum is {}\".format(a, b, a + b)) #a is 10 and b is 23 and their sum is 33\n",
    "print(\"a is %d and b is %d and their sum is %d\" % (a, b, a + b)) # % same result as .format"
   ]
  },
  {
   "cell_type": "code",
   "execution_count": null,
   "id": "db6ff9c8-7713-47e3-93e6-6fe8c4f77342",
   "metadata": {},
   "outputs": [],
   "source": []
  }
 ],
 "metadata": {
  "kernelspec": {
   "display_name": "Python [conda env:base] *",
   "language": "python",
   "name": "conda-base-py"
  },
  "language_info": {
   "codemirror_mode": {
    "name": "ipython",
    "version": 3
   },
   "file_extension": ".py",
   "mimetype": "text/x-python",
   "name": "python",
   "nbconvert_exporter": "python",
   "pygments_lexer": "ipython3",
   "version": "3.12.7"
  }
 },
 "nbformat": 4,
 "nbformat_minor": 5
}
