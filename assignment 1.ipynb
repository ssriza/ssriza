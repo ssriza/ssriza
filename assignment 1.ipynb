{
 "cells": [
  {
   "cell_type": "code",
   "execution_count": 6,
   "id": "ce8489ef-885d-4e1a-946a-2509e9262726",
   "metadata": {},
   "outputs": [
    {
     "name": "stdout",
     "output_type": "stream",
     "text": [
      "50\n",
      "30.5\n"
     ]
    }
   ],
   "source": [
    "# Task 1: Variable Assignment\n",
    "\n",
    "a=50\n",
    "b=30.5\n",
    "print (a)\n",
    "print(b)\n"
   ]
  },
  {
   "cell_type": "code",
   "execution_count": 3,
   "id": "16b82a35",
   "metadata": {},
   "outputs": [
    {
     "name": "stdout",
     "output_type": "stream",
     "text": [
      "Addition: 80.5\n",
      "Subtraction: 19.5\n",
      "Multiplication: 1525.0\n",
      "Division: 1.639344262295082\n",
      "Floor Division: 1.0\n",
      "Modulus: 19.5\n",
      "Exponentiation: 6.585445079827192e+51\n",
      "is a greater than b? True\n",
      "('a:', 30.5) ('b:', 50) True\n"
     ]
    }
   ],
   "source": [
    "# Task 2: Operators\n",
    "a=50\n",
    "b=30.5\n",
    "print(\"Addition:\", a + b)\n",
    "print(\"Subtraction:\", a - b)\n",
    "print(\"Multiplication:\", a * b)\n",
    "print(\"Division:\", a / b)\n",
    "print(\"Floor Division:\", a // b)\n",
    "print(\"Modulus:\", a % b)\n",
    "print(\"Exponentiation:\", a ** b)\n",
    "\n",
    "print(\"is a greater than b?\", a>b)\n",
    "print ((\"a:\",b),(\"b:\",a), b<a) #('a:', 30.5) ('b:', 50) True\n",
    "# want output a:30.5,b:50  # don't want \n"
   ]
  },
  {
   "cell_type": "code",
   "execution_count": null,
   "id": "d9955981-ce78-48b0-a6b4-9c0e4ffba24d",
   "metadata": {},
   "outputs": [],
   "source": []
  },
  {
   "cell_type": "code",
   "execution_count": null,
   "id": "a5a07f8c-01d1-44da-b716-651644243629",
   "metadata": {},
   "outputs": [],
   "source": []
  }
 ],
 "metadata": {
  "kernelspec": {
   "display_name": "Python [conda env:base] *",
   "language": "python",
   "name": "conda-base-py"
  },
  "language_info": {
   "codemirror_mode": {
    "name": "ipython",
    "version": 3
   },
   "file_extension": ".py",
   "mimetype": "text/x-python",
   "name": "python",
   "nbconvert_exporter": "python",
   "pygments_lexer": "ipython3",
   "version": "3.12.7"
  }
 },
 "nbformat": 4,
 "nbformat_minor": 5
}
