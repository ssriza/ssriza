{
  "nbformat": 4,
  "nbformat_minor": 0,
  "metadata": {
    "colab": {
      "provenance": []
    },
    "kernelspec": {
      "name": "python3",
      "display_name": "Python 3"
    },
    "language_info": {
      "name": "python"
    }
  },
  "cells": [
    {
      "cell_type": "code",
      "execution_count": null,
      "metadata": {
        "id": "wYbQuXJsDg9u"
      },
      "outputs": [],
      "source": [
        "# Import necessary libraries\n",
        "from bs4 import BeautifulSoup\n",
        "import pandas as pd"
      ]
    },
    {
      "cell_type": "code",
      "source": [
        "html_doc = \"\"\"<!DOCTYPE html>\n",
        "<html lang=\"en\">\n",
        "<head>\n",
        " <meta charset=\"UTF-8\">\n",
        " <meta name=\"viewport\" content=\"width=device-width, initialscale=1.0\">\n",
        " <title>Sample Books Data</title>\n",
        " <style>\n",
        " body {\n",
        " font-family: Arial, sans-serif;\n",
        " margin: 20px;\n",
        " background-color: #f8f8f8;\n",
        " }\n",
        " h1 {\n",
        " text-align: center;\n",
        " color: #333;\n",
        " }\n",
        " .book {\n",
        " border: 1px solid #ccc;\n",
        " padding: 15px;\n",
        " margin: 10px;\n",
        " border-radius: 5px;\n",
        " background-color: #fff;\n",
        " }\n",
        " .title {\n",
        " font-size: 1.5em;\n",
        " color: #0056b3;\n",
        " }\n",
        " .author {\n",
        " font-style: italic;\n",
        " color: #555;\n",
        " }\n",
        " .price {\n",
        " color: #d9534f;\n",
        " font-weight: bold;\n",
        " }\n",
        " .description {\n",
        " margin-top: 10px;\n",
        " }\n",
        " a {\n",
        " color: #007bff;\n",
        " text-decoration: none;\n",
        " }\n",
        " a:hover {\n",
        " text-decoration: underline;\n",
        " }\n",
        " </style>\n",
        "</head>\n",
        "<body>\n",
        " <h1>Books List</h1>\n",
        " <div class=\"book\">\n",
        " <p class=\"title\">\n",
        " <b>The Great Gatsby</b>\n",
        " </p>\n",
        " <p class=\"author\">Author: F. Scott Fitzgerald</p>\n",
        " <p class=\"price\">Price: $10.99</p>\n",
        " <p class=\"publication-year\">Publication Year: 1925</p>\n",
        " <p class=\"genre\">Genre: Fiction</p>\n",
        " <p class=\"description\">\n",
        " A novel about the American dream, set in the 1920s on Long\n",
        "Island.\n",
        " </p>\n",
        " <p>More Info: <a class=\"info-link\"\n",
        "href=\"http://example.com/gatsby\" id=\"link1\">Learn More</a></p>\n",
        " </div>\n",
        " <div class=\"book\">\n",
        " <p class=\"title\">\n",
        " <b>1984</b>\n",
        " </p>\n",
        " <p class=\"author\">Author: George Orwell</p>\n",
        " <p class=\"price\">Price: $8.99</p>\n",
        " <p class=\"publication-year\">Publication Year: 1949</p>\n",
        " <p class=\"genre\">Genre: Dystopian</p>\n",
        " <p class=\"description\">\n",
        " A story about a totalitarian regime that uses surveillance\n",
        "and propaganda to control its citizens.\n",
        " </p>\n",
        " <p>More Info: <a class=\"info-link\"\n",
        "href=\"http://example.com/1984\" id=\"link2\">Learn More</a></p>\n",
        " </div>\n",
        " <div class=\"book\">\n",
        " <p class=\"title\">\n",
        " <b>To Kill a Mockingbird</b>\n",
        " </p>\n",
        " <p class=\"author\">Author: Harper Lee</p>\n",
        " <p class=\"price\">Price: $7.99</p>\n",
        " <p class=\"publication-year\">Publication Year: 1960</p>\n",
        " <p class=\"genre\">Genre: Fiction</p>\n",
        " <p class=\"description\">\n",
        " A novel set in the Great Depression that addresses serious\n",
        "issues of race and injustice.\n",
        " </p>\n",
        " <p>More Info: <a class=\"info-link\"\n",
        "href=\"http://example.com/mockingbird\" id=\"link3\">Learn More</a></p>\n",
        " </div>\n",
        "</body>\n",
        "</html>\n",
        "\"\"\"\n",
        "\n",
        "# Parse the HTML content with Beautiful Soup\n",
        "soup = BeautifulSoup(html_doc, 'html.parser')\n",
        "soup"
      ],
      "metadata": {
        "colab": {
          "base_uri": "https://localhost:8080/"
        },
        "collapsed": true,
        "id": "ulBUis62Dx-Y",
        "outputId": "a3e7e663-d648-4e5b-8db9-6f1196643928"
      },
      "execution_count": null,
      "outputs": [
        {
          "output_type": "execute_result",
          "data": {
            "text/plain": [
              "<!DOCTYPE html>\n",
              "\n",
              "<html lang=\"en\">\n",
              "<head>\n",
              "<meta charset=\"utf-8\"/>\n",
              "<meta content=\"width=device-width, initialscale=1.0\" name=\"viewport\"/>\n",
              "<title>Sample Books Data</title>\n",
              "<style>\n",
              " body {\n",
              " font-family: Arial, sans-serif;\n",
              " margin: 20px;\n",
              " background-color: #f8f8f8;\n",
              " }\n",
              " h1 {\n",
              " text-align: center;\n",
              " color: #333;\n",
              " }\n",
              " .book {\n",
              " border: 1px solid #ccc;\n",
              " padding: 15px;\n",
              " margin: 10px;\n",
              " border-radius: 5px;\n",
              " background-color: #fff;\n",
              " }\n",
              " .title {\n",
              " font-size: 1.5em;\n",
              " color: #0056b3;\n",
              " }\n",
              " .author {\n",
              " font-style: italic;\n",
              " color: #555;\n",
              " }\n",
              " .price {\n",
              " color: #d9534f;\n",
              " font-weight: bold;\n",
              " }\n",
              " .description {\n",
              " margin-top: 10px;\n",
              " }\n",
              " a {\n",
              " color: #007bff;\n",
              " text-decoration: none;\n",
              " }\n",
              " a:hover {\n",
              " text-decoration: underline;\n",
              " }\n",
              " </style>\n",
              "</head>\n",
              "<body>\n",
              "<h1>Books List</h1>\n",
              "<div class=\"book\">\n",
              "<p class=\"title\">\n",
              "<b>The Great Gatsby</b>\n",
              "</p>\n",
              "<p class=\"author\">Author: F. Scott Fitzgerald</p>\n",
              "<p class=\"price\">Price: $10.99</p>\n",
              "<p class=\"publication-year\">Publication Year: 1925</p>\n",
              "<p class=\"genre\">Genre: Fiction</p>\n",
              "<p class=\"description\">\n",
              " A novel about the American dream, set in the 1920s on Long\n",
              "Island.\n",
              " </p>\n",
              "<p>More Info: <a class=\"info-link\" href=\"http://example.com/gatsby\" id=\"link1\">Learn More</a></p>\n",
              "</div>\n",
              "<div class=\"book\">\n",
              "<p class=\"title\">\n",
              "<b>1984</b>\n",
              "</p>\n",
              "<p class=\"author\">Author: George Orwell</p>\n",
              "<p class=\"price\">Price: $8.99</p>\n",
              "<p class=\"publication-year\">Publication Year: 1949</p>\n",
              "<p class=\"genre\">Genre: Dystopian</p>\n",
              "<p class=\"description\">\n",
              " A story about a totalitarian regime that uses surveillance\n",
              "and propaganda to control its citizens.\n",
              " </p>\n",
              "<p>More Info: <a class=\"info-link\" href=\"http://example.com/1984\" id=\"link2\">Learn More</a></p>\n",
              "</div>\n",
              "<div class=\"book\">\n",
              "<p class=\"title\">\n",
              "<b>To Kill a Mockingbird</b>\n",
              "</p>\n",
              "<p class=\"author\">Author: Harper Lee</p>\n",
              "<p class=\"price\">Price: $7.99</p>\n",
              "<p class=\"publication-year\">Publication Year: 1960</p>\n",
              "<p class=\"genre\">Genre: Fiction</p>\n",
              "<p class=\"description\">\n",
              " A novel set in the Great Depression that addresses serious\n",
              "issues of race and injustice.\n",
              " </p>\n",
              "<p>More Info: <a class=\"info-link\" href=\"http://example.com/mockingbird\" id=\"link3\">Learn More</a></p>\n",
              "</div>\n",
              "</body>\n",
              "</html>"
            ]
          },
          "metadata": {},
          "execution_count": 4
        }
      ]
    },
    {
      "cell_type": "code",
      "source": [
        "# Print the parsed HTML to verify\n",
        "print(soup.prettify()) # method in Beautiful Soup that formats the parsed HTML content into a more readable structure\n",
        "\n",
        "# same as above without using prettify, should we have to use it ??"
      ],
      "metadata": {
        "colab": {
          "base_uri": "https://localhost:8080/"
        },
        "collapsed": true,
        "id": "ZgAGF5ZFEOW0",
        "outputId": "b6f447dd-998e-4b48-bee5-58417ffe9c81"
      },
      "execution_count": null,
      "outputs": [
        {
          "output_type": "stream",
          "name": "stdout",
          "text": [
            "<!DOCTYPE html>\n",
            "<html lang=\"en\">\n",
            " <head>\n",
            "  <meta charset=\"utf-8\"/>\n",
            "  <meta content=\"width=device-width, initialscale=1.0\" name=\"viewport\"/>\n",
            "  <title>\n",
            "   Sample Books Data\n",
            "  </title>\n",
            "  <style>\n",
            "   body {\n",
            " font-family: Arial, sans-serif;\n",
            " margin: 20px;\n",
            " background-color: #f8f8f8;\n",
            " }\n",
            " h1 {\n",
            " text-align: center;\n",
            " color: #333;\n",
            " }\n",
            " .book {\n",
            " border: 1px solid #ccc;\n",
            " padding: 15px;\n",
            " margin: 10px;\n",
            " border-radius: 5px;\n",
            " background-color: #fff;\n",
            " }\n",
            " .title {\n",
            " font-size: 1.5em;\n",
            " color: #0056b3;\n",
            " }\n",
            " .author {\n",
            " font-style: italic;\n",
            " color: #555;\n",
            " }\n",
            " .price {\n",
            " color: #d9534f;\n",
            " font-weight: bold;\n",
            " }\n",
            " .description {\n",
            " margin-top: 10px;\n",
            " }\n",
            " a {\n",
            " color: #007bff;\n",
            " text-decoration: none;\n",
            " }\n",
            " a:hover {\n",
            " text-decoration: underline;\n",
            " }\n",
            "  </style>\n",
            " </head>\n",
            " <body>\n",
            "  <h1>\n",
            "   Books List\n",
            "  </h1>\n",
            "  <div class=\"book\">\n",
            "   <p class=\"title\">\n",
            "    <b>\n",
            "     The Great Gatsby\n",
            "    </b>\n",
            "   </p>\n",
            "   <p class=\"author\">\n",
            "    Author: F. Scott Fitzgerald\n",
            "   </p>\n",
            "   <p class=\"price\">\n",
            "    Price: $10.99\n",
            "   </p>\n",
            "   <p class=\"publication-year\">\n",
            "    Publication Year: 1925\n",
            "   </p>\n",
            "   <p class=\"genre\">\n",
            "    Genre: Fiction\n",
            "   </p>\n",
            "   <p class=\"description\">\n",
            "    A novel about the American dream, set in the 1920s on Long\n",
            "Island.\n",
            "   </p>\n",
            "   <p>\n",
            "    More Info:\n",
            "    <a class=\"info-link\" href=\"http://example.com/gatsby\" id=\"link1\">\n",
            "     Learn More\n",
            "    </a>\n",
            "   </p>\n",
            "  </div>\n",
            "  <div class=\"book\">\n",
            "   <p class=\"title\">\n",
            "    <b>\n",
            "     1984\n",
            "    </b>\n",
            "   </p>\n",
            "   <p class=\"author\">\n",
            "    Author: George Orwell\n",
            "   </p>\n",
            "   <p class=\"price\">\n",
            "    Price: $8.99\n",
            "   </p>\n",
            "   <p class=\"publication-year\">\n",
            "    Publication Year: 1949\n",
            "   </p>\n",
            "   <p class=\"genre\">\n",
            "    Genre: Dystopian\n",
            "   </p>\n",
            "   <p class=\"description\">\n",
            "    A story about a totalitarian regime that uses surveillance\n",
            "and propaganda to control its citizens.\n",
            "   </p>\n",
            "   <p>\n",
            "    More Info:\n",
            "    <a class=\"info-link\" href=\"http://example.com/1984\" id=\"link2\">\n",
            "     Learn More\n",
            "    </a>\n",
            "   </p>\n",
            "  </div>\n",
            "  <div class=\"book\">\n",
            "   <p class=\"title\">\n",
            "    <b>\n",
            "     To Kill a Mockingbird\n",
            "    </b>\n",
            "   </p>\n",
            "   <p class=\"author\">\n",
            "    Author: Harper Lee\n",
            "   </p>\n",
            "   <p class=\"price\">\n",
            "    Price: $7.99\n",
            "   </p>\n",
            "   <p class=\"publication-year\">\n",
            "    Publication Year: 1960\n",
            "   </p>\n",
            "   <p class=\"genre\">\n",
            "    Genre: Fiction\n",
            "   </p>\n",
            "   <p class=\"description\">\n",
            "    A novel set in the Great Depression that addresses serious\n",
            "issues of race and injustice.\n",
            "   </p>\n",
            "   <p>\n",
            "    More Info:\n",
            "    <a class=\"info-link\" href=\"http://example.com/mockingbird\" id=\"link3\">\n",
            "     Learn More\n",
            "    </a>\n",
            "   </p>\n",
            "  </div>\n",
            " </body>\n",
            "</html>\n",
            "\n"
          ]
        }
      ]
    },
    {
      "cell_type": "code",
      "source": [
        "# Find all book entries\n",
        "books = soup.find_all('div', class_='book')\n",
        "books"
      ],
      "metadata": {
        "colab": {
          "base_uri": "https://localhost:8080/"
        },
        "collapsed": true,
        "id": "QETqt9brFauj",
        "outputId": "4b093c8f-2499-4468-814f-0bde569ee948"
      },
      "execution_count": null,
      "outputs": [
        {
          "output_type": "execute_result",
          "data": {
            "text/plain": [
              "[<div class=\"book\">\n",
              " <p class=\"title\">\n",
              " <b>The Great Gatsby</b>\n",
              " </p>\n",
              " <p class=\"author\">Author: F. Scott Fitzgerald</p>\n",
              " <p class=\"price\">Price: $10.99</p>\n",
              " <p class=\"publication-year\">Publication Year: 1925</p>\n",
              " <p class=\"genre\">Genre: Fiction</p>\n",
              " <p class=\"description\">\n",
              "  A novel about the American dream, set in the 1920s on Long\n",
              " Island.\n",
              "  </p>\n",
              " <p>More Info: <a class=\"info-link\" href=\"http://example.com/gatsby\" id=\"link1\">Learn More</a></p>\n",
              " </div>,\n",
              " <div class=\"book\">\n",
              " <p class=\"title\">\n",
              " <b>1984</b>\n",
              " </p>\n",
              " <p class=\"author\">Author: George Orwell</p>\n",
              " <p class=\"price\">Price: $8.99</p>\n",
              " <p class=\"publication-year\">Publication Year: 1949</p>\n",
              " <p class=\"genre\">Genre: Dystopian</p>\n",
              " <p class=\"description\">\n",
              "  A story about a totalitarian regime that uses surveillance\n",
              " and propaganda to control its citizens.\n",
              "  </p>\n",
              " <p>More Info: <a class=\"info-link\" href=\"http://example.com/1984\" id=\"link2\">Learn More</a></p>\n",
              " </div>,\n",
              " <div class=\"book\">\n",
              " <p class=\"title\">\n",
              " <b>To Kill a Mockingbird</b>\n",
              " </p>\n",
              " <p class=\"author\">Author: Harper Lee</p>\n",
              " <p class=\"price\">Price: $7.99</p>\n",
              " <p class=\"publication-year\">Publication Year: 1960</p>\n",
              " <p class=\"genre\">Genre: Fiction</p>\n",
              " <p class=\"description\">\n",
              "  A novel set in the Great Depression that addresses serious\n",
              " issues of race and injustice.\n",
              "  </p>\n",
              " <p>More Info: <a class=\"info-link\" href=\"http://example.com/mockingbird\" id=\"link3\">Learn More</a></p>\n",
              " </div>]"
            ]
          },
          "metadata": {},
          "execution_count": 6
        }
      ]
    },
    {
      "cell_type": "code",
      "source": [
        "# Print the number of books found\n",
        "num_of_books = len(books)\n",
        "#print(f\"Number of books found: {len(books)}\")\n",
        "print(num_of_books)"
      ],
      "metadata": {
        "colab": {
          "base_uri": "https://localhost:8080/"
        },
        "id": "i_lADKwDF1yf",
        "outputId": "1784271d-0b4a-450c-e8d4-fd016d1300f5"
      },
      "execution_count": null,
      "outputs": [
        {
          "output_type": "stream",
          "name": "stdout",
          "text": [
            "3\n"
          ]
        }
      ]
    },
    {
      "cell_type": "code",
      "source": [
        "# Initialize an empty list to hold book data\n",
        "book_data_1 = []\n",
        "# Loop through each book and extract details\n",
        "for book in books:\n",
        " title = book.find('p', class_='title').get_text(strip=True)\n",
        " author = book.find('p', class_='author').get_text(strip=True)\n",
        " price = book.find('p', class_='price').get_text(strip=True)\n",
        " publication_year = book.find('p', class_='publication-year').get_text(strip=True)\n",
        " genre = book.find('p', class_='genre').get_text(strip=True)\n",
        " description = book.find('p',\n",
        "class_='description').get_text(strip=True)\n",
        " # Append the extracted data to the list\n",
        " book_data_1.append({\n",
        " 'Title': title,\n",
        " 'Author': author,\n",
        " 'Price': price,\n",
        " 'Publication Year': publication_year,\n",
        " 'Genre': genre,\n",
        " 'Description': description\n",
        " })\n",
        "#Output -> [{}, {},{}]\n",
        "book_data_1\n"
      ],
      "metadata": {
        "id": "JicMN3mVGK8m"
      },
      "execution_count": null,
      "outputs": []
    },
    {
      "cell_type": "code",
      "source": [
        "# Create a DataFrame from the extracted book data\n",
        "df = pd.DataFrame(book_data_1)\n",
        "df # display the dataframe\n"
      ],
      "metadata": {
        "colab": {
          "base_uri": "https://localhost:8080/",
          "height": 143
        },
        "collapsed": true,
        "id": "Blz4df7hG6gz",
        "outputId": "b25a9113-409f-45fd-f302-165bfd2a4355"
      },
      "execution_count": null,
      "outputs": [
        {
          "output_type": "execute_result",
          "data": {
            "text/plain": [
              "                   Title                       Author          Price  \\\n",
              "0       The Great Gatsby  Author: F. Scott Fitzgerald  Price: $10.99   \n",
              "1                   1984        Author: George Orwell   Price: $8.99   \n",
              "2  To Kill a Mockingbird           Author: Harper Lee   Price: $7.99   \n",
              "\n",
              "         Publication Year             Genre  \\\n",
              "0  Publication Year: 1925    Genre: Fiction   \n",
              "1  Publication Year: 1949  Genre: Dystopian   \n",
              "2  Publication Year: 1960    Genre: Fiction   \n",
              "\n",
              "                                         Description  \n",
              "0  A novel about the American dream, set in the 1...  \n",
              "1  A story about a totalitarian regime that uses ...  \n",
              "2  A novel set in the Great Depression that addre...  "
            ],
            "text/html": [
              "\n",
              "  <div id=\"df-02c2426d-b60b-4894-a988-f27bfdcbd626\" class=\"colab-df-container\">\n",
              "    <div>\n",
              "<style scoped>\n",
              "    .dataframe tbody tr th:only-of-type {\n",
              "        vertical-align: middle;\n",
              "    }\n",
              "\n",
              "    .dataframe tbody tr th {\n",
              "        vertical-align: top;\n",
              "    }\n",
              "\n",
              "    .dataframe thead th {\n",
              "        text-align: right;\n",
              "    }\n",
              "</style>\n",
              "<table border=\"1\" class=\"dataframe\">\n",
              "  <thead>\n",
              "    <tr style=\"text-align: right;\">\n",
              "      <th></th>\n",
              "      <th>Title</th>\n",
              "      <th>Author</th>\n",
              "      <th>Price</th>\n",
              "      <th>Publication Year</th>\n",
              "      <th>Genre</th>\n",
              "      <th>Description</th>\n",
              "    </tr>\n",
              "  </thead>\n",
              "  <tbody>\n",
              "    <tr>\n",
              "      <th>0</th>\n",
              "      <td>The Great Gatsby</td>\n",
              "      <td>Author: F. Scott Fitzgerald</td>\n",
              "      <td>Price: $10.99</td>\n",
              "      <td>Publication Year: 1925</td>\n",
              "      <td>Genre: Fiction</td>\n",
              "      <td>A novel about the American dream, set in the 1...</td>\n",
              "    </tr>\n",
              "    <tr>\n",
              "      <th>1</th>\n",
              "      <td>1984</td>\n",
              "      <td>Author: George Orwell</td>\n",
              "      <td>Price: $8.99</td>\n",
              "      <td>Publication Year: 1949</td>\n",
              "      <td>Genre: Dystopian</td>\n",
              "      <td>A story about a totalitarian regime that uses ...</td>\n",
              "    </tr>\n",
              "    <tr>\n",
              "      <th>2</th>\n",
              "      <td>To Kill a Mockingbird</td>\n",
              "      <td>Author: Harper Lee</td>\n",
              "      <td>Price: $7.99</td>\n",
              "      <td>Publication Year: 1960</td>\n",
              "      <td>Genre: Fiction</td>\n",
              "      <td>A novel set in the Great Depression that addre...</td>\n",
              "    </tr>\n",
              "  </tbody>\n",
              "</table>\n",
              "</div>\n",
              "    <div class=\"colab-df-buttons\">\n",
              "\n",
              "  <div class=\"colab-df-container\">\n",
              "    <button class=\"colab-df-convert\" onclick=\"convertToInteractive('df-02c2426d-b60b-4894-a988-f27bfdcbd626')\"\n",
              "            title=\"Convert this dataframe to an interactive table.\"\n",
              "            style=\"display:none;\">\n",
              "\n",
              "  <svg xmlns=\"http://www.w3.org/2000/svg\" height=\"24px\" viewBox=\"0 -960 960 960\">\n",
              "    <path d=\"M120-120v-720h720v720H120Zm60-500h600v-160H180v160Zm220 220h160v-160H400v160Zm0 220h160v-160H400v160ZM180-400h160v-160H180v160Zm440 0h160v-160H620v160ZM180-180h160v-160H180v160Zm440 0h160v-160H620v160Z\"/>\n",
              "  </svg>\n",
              "    </button>\n",
              "\n",
              "  <style>\n",
              "    .colab-df-container {\n",
              "      display:flex;\n",
              "      gap: 12px;\n",
              "    }\n",
              "\n",
              "    .colab-df-convert {\n",
              "      background-color: #E8F0FE;\n",
              "      border: none;\n",
              "      border-radius: 50%;\n",
              "      cursor: pointer;\n",
              "      display: none;\n",
              "      fill: #1967D2;\n",
              "      height: 32px;\n",
              "      padding: 0 0 0 0;\n",
              "      width: 32px;\n",
              "    }\n",
              "\n",
              "    .colab-df-convert:hover {\n",
              "      background-color: #E2EBFA;\n",
              "      box-shadow: 0px 1px 2px rgba(60, 64, 67, 0.3), 0px 1px 3px 1px rgba(60, 64, 67, 0.15);\n",
              "      fill: #174EA6;\n",
              "    }\n",
              "\n",
              "    .colab-df-buttons div {\n",
              "      margin-bottom: 4px;\n",
              "    }\n",
              "\n",
              "    [theme=dark] .colab-df-convert {\n",
              "      background-color: #3B4455;\n",
              "      fill: #D2E3FC;\n",
              "    }\n",
              "\n",
              "    [theme=dark] .colab-df-convert:hover {\n",
              "      background-color: #434B5C;\n",
              "      box-shadow: 0px 1px 3px 1px rgba(0, 0, 0, 0.15);\n",
              "      filter: drop-shadow(0px 1px 2px rgba(0, 0, 0, 0.3));\n",
              "      fill: #FFFFFF;\n",
              "    }\n",
              "  </style>\n",
              "\n",
              "    <script>\n",
              "      const buttonEl =\n",
              "        document.querySelector('#df-02c2426d-b60b-4894-a988-f27bfdcbd626 button.colab-df-convert');\n",
              "      buttonEl.style.display =\n",
              "        google.colab.kernel.accessAllowed ? 'block' : 'none';\n",
              "\n",
              "      async function convertToInteractive(key) {\n",
              "        const element = document.querySelector('#df-02c2426d-b60b-4894-a988-f27bfdcbd626');\n",
              "        const dataTable =\n",
              "          await google.colab.kernel.invokeFunction('convertToInteractive',\n",
              "                                                    [key], {});\n",
              "        if (!dataTable) return;\n",
              "\n",
              "        const docLinkHtml = 'Like what you see? Visit the ' +\n",
              "          '<a target=\"_blank\" href=https://colab.research.google.com/notebooks/data_table.ipynb>data table notebook</a>'\n",
              "          + ' to learn more about interactive tables.';\n",
              "        element.innerHTML = '';\n",
              "        dataTable['output_type'] = 'display_data';\n",
              "        await google.colab.output.renderOutput(dataTable, element);\n",
              "        const docLink = document.createElement('div');\n",
              "        docLink.innerHTML = docLinkHtml;\n",
              "        element.appendChild(docLink);\n",
              "      }\n",
              "    </script>\n",
              "  </div>\n",
              "\n",
              "\n",
              "    <div id=\"df-b91dd6e5-cb7b-47dc-908c-065f4abfcdac\">\n",
              "      <button class=\"colab-df-quickchart\" onclick=\"quickchart('df-b91dd6e5-cb7b-47dc-908c-065f4abfcdac')\"\n",
              "                title=\"Suggest charts\"\n",
              "                style=\"display:none;\">\n",
              "\n",
              "<svg xmlns=\"http://www.w3.org/2000/svg\" height=\"24px\"viewBox=\"0 0 24 24\"\n",
              "     width=\"24px\">\n",
              "    <g>\n",
              "        <path d=\"M19 3H5c-1.1 0-2 .9-2 2v14c0 1.1.9 2 2 2h14c1.1 0 2-.9 2-2V5c0-1.1-.9-2-2-2zM9 17H7v-7h2v7zm4 0h-2V7h2v10zm4 0h-2v-4h2v4z\"/>\n",
              "    </g>\n",
              "</svg>\n",
              "      </button>\n",
              "\n",
              "<style>\n",
              "  .colab-df-quickchart {\n",
              "      --bg-color: #E8F0FE;\n",
              "      --fill-color: #1967D2;\n",
              "      --hover-bg-color: #E2EBFA;\n",
              "      --hover-fill-color: #174EA6;\n",
              "      --disabled-fill-color: #AAA;\n",
              "      --disabled-bg-color: #DDD;\n",
              "  }\n",
              "\n",
              "  [theme=dark] .colab-df-quickchart {\n",
              "      --bg-color: #3B4455;\n",
              "      --fill-color: #D2E3FC;\n",
              "      --hover-bg-color: #434B5C;\n",
              "      --hover-fill-color: #FFFFFF;\n",
              "      --disabled-bg-color: #3B4455;\n",
              "      --disabled-fill-color: #666;\n",
              "  }\n",
              "\n",
              "  .colab-df-quickchart {\n",
              "    background-color: var(--bg-color);\n",
              "    border: none;\n",
              "    border-radius: 50%;\n",
              "    cursor: pointer;\n",
              "    display: none;\n",
              "    fill: var(--fill-color);\n",
              "    height: 32px;\n",
              "    padding: 0;\n",
              "    width: 32px;\n",
              "  }\n",
              "\n",
              "  .colab-df-quickchart:hover {\n",
              "    background-color: var(--hover-bg-color);\n",
              "    box-shadow: 0 1px 2px rgba(60, 64, 67, 0.3), 0 1px 3px 1px rgba(60, 64, 67, 0.15);\n",
              "    fill: var(--button-hover-fill-color);\n",
              "  }\n",
              "\n",
              "  .colab-df-quickchart-complete:disabled,\n",
              "  .colab-df-quickchart-complete:disabled:hover {\n",
              "    background-color: var(--disabled-bg-color);\n",
              "    fill: var(--disabled-fill-color);\n",
              "    box-shadow: none;\n",
              "  }\n",
              "\n",
              "  .colab-df-spinner {\n",
              "    border: 2px solid var(--fill-color);\n",
              "    border-color: transparent;\n",
              "    border-bottom-color: var(--fill-color);\n",
              "    animation:\n",
              "      spin 1s steps(1) infinite;\n",
              "  }\n",
              "\n",
              "  @keyframes spin {\n",
              "    0% {\n",
              "      border-color: transparent;\n",
              "      border-bottom-color: var(--fill-color);\n",
              "      border-left-color: var(--fill-color);\n",
              "    }\n",
              "    20% {\n",
              "      border-color: transparent;\n",
              "      border-left-color: var(--fill-color);\n",
              "      border-top-color: var(--fill-color);\n",
              "    }\n",
              "    30% {\n",
              "      border-color: transparent;\n",
              "      border-left-color: var(--fill-color);\n",
              "      border-top-color: var(--fill-color);\n",
              "      border-right-color: var(--fill-color);\n",
              "    }\n",
              "    40% {\n",
              "      border-color: transparent;\n",
              "      border-right-color: var(--fill-color);\n",
              "      border-top-color: var(--fill-color);\n",
              "    }\n",
              "    60% {\n",
              "      border-color: transparent;\n",
              "      border-right-color: var(--fill-color);\n",
              "    }\n",
              "    80% {\n",
              "      border-color: transparent;\n",
              "      border-right-color: var(--fill-color);\n",
              "      border-bottom-color: var(--fill-color);\n",
              "    }\n",
              "    90% {\n",
              "      border-color: transparent;\n",
              "      border-bottom-color: var(--fill-color);\n",
              "    }\n",
              "  }\n",
              "</style>\n",
              "\n",
              "      <script>\n",
              "        async function quickchart(key) {\n",
              "          const quickchartButtonEl =\n",
              "            document.querySelector('#' + key + ' button');\n",
              "          quickchartButtonEl.disabled = true;  // To prevent multiple clicks.\n",
              "          quickchartButtonEl.classList.add('colab-df-spinner');\n",
              "          try {\n",
              "            const charts = await google.colab.kernel.invokeFunction(\n",
              "                'suggestCharts', [key], {});\n",
              "          } catch (error) {\n",
              "            console.error('Error during call to suggestCharts:', error);\n",
              "          }\n",
              "          quickchartButtonEl.classList.remove('colab-df-spinner');\n",
              "          quickchartButtonEl.classList.add('colab-df-quickchart-complete');\n",
              "        }\n",
              "        (() => {\n",
              "          let quickchartButtonEl =\n",
              "            document.querySelector('#df-b91dd6e5-cb7b-47dc-908c-065f4abfcdac button');\n",
              "          quickchartButtonEl.style.display =\n",
              "            google.colab.kernel.accessAllowed ? 'block' : 'none';\n",
              "        })();\n",
              "      </script>\n",
              "    </div>\n",
              "\n",
              "  <div id=\"id_839e9fab-ff11-4003-a058-4c8dc76593ea\">\n",
              "    <style>\n",
              "      .colab-df-generate {\n",
              "        background-color: #E8F0FE;\n",
              "        border: none;\n",
              "        border-radius: 50%;\n",
              "        cursor: pointer;\n",
              "        display: none;\n",
              "        fill: #1967D2;\n",
              "        height: 32px;\n",
              "        padding: 0 0 0 0;\n",
              "        width: 32px;\n",
              "      }\n",
              "\n",
              "      .colab-df-generate:hover {\n",
              "        background-color: #E2EBFA;\n",
              "        box-shadow: 0px 1px 2px rgba(60, 64, 67, 0.3), 0px 1px 3px 1px rgba(60, 64, 67, 0.15);\n",
              "        fill: #174EA6;\n",
              "      }\n",
              "\n",
              "      [theme=dark] .colab-df-generate {\n",
              "        background-color: #3B4455;\n",
              "        fill: #D2E3FC;\n",
              "      }\n",
              "\n",
              "      [theme=dark] .colab-df-generate:hover {\n",
              "        background-color: #434B5C;\n",
              "        box-shadow: 0px 1px 3px 1px rgba(0, 0, 0, 0.15);\n",
              "        filter: drop-shadow(0px 1px 2px rgba(0, 0, 0, 0.3));\n",
              "        fill: #FFFFFF;\n",
              "      }\n",
              "    </style>\n",
              "    <button class=\"colab-df-generate\" onclick=\"generateWithVariable('df')\"\n",
              "            title=\"Generate code using this dataframe.\"\n",
              "            style=\"display:none;\">\n",
              "\n",
              "  <svg xmlns=\"http://www.w3.org/2000/svg\" height=\"24px\"viewBox=\"0 0 24 24\"\n",
              "       width=\"24px\">\n",
              "    <path d=\"M7,19H8.4L18.45,9,17,7.55,7,17.6ZM5,21V16.75L18.45,3.32a2,2,0,0,1,2.83,0l1.4,1.43a1.91,1.91,0,0,1,.58,1.4,1.91,1.91,0,0,1-.58,1.4L9.25,21ZM18.45,9,17,7.55Zm-12,3A5.31,5.31,0,0,0,4.9,8.1,5.31,5.31,0,0,0,1,6.5,5.31,5.31,0,0,0,4.9,4.9,5.31,5.31,0,0,0,6.5,1,5.31,5.31,0,0,0,8.1,4.9,5.31,5.31,0,0,0,12,6.5,5.46,5.46,0,0,0,6.5,12Z\"/>\n",
              "  </svg>\n",
              "    </button>\n",
              "    <script>\n",
              "      (() => {\n",
              "      const buttonEl =\n",
              "        document.querySelector('#id_839e9fab-ff11-4003-a058-4c8dc76593ea button.colab-df-generate');\n",
              "      buttonEl.style.display =\n",
              "        google.colab.kernel.accessAllowed ? 'block' : 'none';\n",
              "\n",
              "      buttonEl.onclick = () => {\n",
              "        google.colab.notebook.generateWithVariable('df');\n",
              "      }\n",
              "      })();\n",
              "    </script>\n",
              "  </div>\n",
              "\n",
              "    </div>\n",
              "  </div>\n"
            ],
            "application/vnd.google.colaboratory.intrinsic+json": {
              "type": "dataframe",
              "variable_name": "df",
              "summary": "{\n  \"name\": \"df\",\n  \"rows\": 3,\n  \"fields\": [\n    {\n      \"column\": \"Title\",\n      \"properties\": {\n        \"dtype\": \"string\",\n        \"num_unique_values\": 3,\n        \"samples\": [\n          \"The Great Gatsby\",\n          \"1984\",\n          \"To Kill a Mockingbird\"\n        ],\n        \"semantic_type\": \"\",\n        \"description\": \"\"\n      }\n    },\n    {\n      \"column\": \"Author\",\n      \"properties\": {\n        \"dtype\": \"string\",\n        \"num_unique_values\": 3,\n        \"samples\": [\n          \"Author: F. Scott Fitzgerald\",\n          \"Author: George Orwell\",\n          \"Author: Harper Lee\"\n        ],\n        \"semantic_type\": \"\",\n        \"description\": \"\"\n      }\n    },\n    {\n      \"column\": \"Price\",\n      \"properties\": {\n        \"dtype\": \"string\",\n        \"num_unique_values\": 3,\n        \"samples\": [\n          \"Price: $10.99\",\n          \"Price: $8.99\",\n          \"Price: $7.99\"\n        ],\n        \"semantic_type\": \"\",\n        \"description\": \"\"\n      }\n    },\n    {\n      \"column\": \"Publication Year\",\n      \"properties\": {\n        \"dtype\": \"string\",\n        \"num_unique_values\": 3,\n        \"samples\": [\n          \"Publication Year: 1925\",\n          \"Publication Year: 1949\",\n          \"Publication Year: 1960\"\n        ],\n        \"semantic_type\": \"\",\n        \"description\": \"\"\n      }\n    },\n    {\n      \"column\": \"Genre\",\n      \"properties\": {\n        \"dtype\": \"string\",\n        \"num_unique_values\": 2,\n        \"samples\": [\n          \"Genre: Dystopian\",\n          \"Genre: Fiction\"\n        ],\n        \"semantic_type\": \"\",\n        \"description\": \"\"\n      }\n    },\n    {\n      \"column\": \"Description\",\n      \"properties\": {\n        \"dtype\": \"string\",\n        \"num_unique_values\": 3,\n        \"samples\": [\n          \"A novel about the American dream, set in the 1920s on Long\\nIsland.\",\n          \"A story about a totalitarian regime that uses surveillance\\nand propaganda to control its citizens.\"\n        ],\n        \"semantic_type\": \"\",\n        \"description\": \"\"\n      }\n    }\n  ]\n}"
            }
          },
          "metadata": {},
          "execution_count": 31
        }
      ]
    },
    {
      "cell_type": "code",
      "source": [
        "soup.title"
      ],
      "metadata": {
        "colab": {
          "base_uri": "https://localhost:8080/"
        },
        "id": "EOn-VNI3HnDy",
        "outputId": "070d062b-d1f1-4342-d6fb-fc301594b557"
      },
      "execution_count": null,
      "outputs": [
        {
          "output_type": "execute_result",
          "data": {
            "text/plain": [
              "<title>Sample Books Data</title>"
            ]
          },
          "metadata": {},
          "execution_count": 32
        }
      ]
    },
    {
      "cell_type": "code",
      "source": [
        "soup.title.parent.name"
      ],
      "metadata": {
        "colab": {
          "base_uri": "https://localhost:8080/",
          "height": 35
        },
        "id": "5bFTAO6zNKNg",
        "outputId": "da63ea9b-4b45-43a9-eed6-3c9db79752e0"
      },
      "execution_count": null,
      "outputs": [
        {
          "output_type": "execute_result",
          "data": {
            "text/plain": [
              "'head'"
            ],
            "application/vnd.google.colaboratory.intrinsic+json": {
              "type": "string"
            }
          },
          "metadata": {},
          "execution_count": 33
        }
      ]
    },
    {
      "cell_type": "code",
      "source": [
        "soup.a"
      ],
      "metadata": {
        "colab": {
          "base_uri": "https://localhost:8080/"
        },
        "id": "A3sZs7T3NUno",
        "outputId": "9c27bdd3-5d73-4835-dcaa-50115539da9b"
      },
      "execution_count": null,
      "outputs": [
        {
          "output_type": "execute_result",
          "data": {
            "text/plain": [
              "<a class=\"info-link\" href=\"http://example.com/gatsby\" id=\"link1\">Learn More</a>"
            ]
          },
          "metadata": {},
          "execution_count": 34
        }
      ]
    },
    {
      "cell_type": "code",
      "source": [
        "soup.find_all('a') # Find all anchor (<a>) tags in the document and return them as a list"
      ],
      "metadata": {
        "colab": {
          "base_uri": "https://localhost:8080/"
        },
        "id": "t7pr35tTNedf",
        "outputId": "204d7db4-96e8-4f7b-9ffd-93b1ba5503e4"
      },
      "execution_count": null,
      "outputs": [
        {
          "output_type": "execute_result",
          "data": {
            "text/plain": [
              "[<a class=\"info-link\" href=\"http://example.com/gatsby\" id=\"link1\">Learn More</a>,\n",
              " <a class=\"info-link\" href=\"http://example.com/1984\" id=\"link2\">Learn More</a>,\n",
              " <a class=\"info-link\" href=\"http://example.com/mockingbird\" id=\"link3\">Learn More</a>]"
            ]
          },
          "metadata": {},
          "execution_count": 35
        }
      ]
    },
    {
      "cell_type": "code",
      "source": [
        "soup.find(id = 'link3') # Find an element by its ID (in this case, the element with id='link3')\n"
      ],
      "metadata": {
        "colab": {
          "base_uri": "https://localhost:8080/"
        },
        "id": "qWaV6oT0NiAr",
        "outputId": "66f018ea-0e34-4d1f-9e03-7872dbbc36e5"
      },
      "execution_count": null,
      "outputs": [
        {
          "output_type": "execute_result",
          "data": {
            "text/plain": [
              "<a class=\"info-link\" href=\"http://example.com/mockingbird\" id=\"link3\">Learn More</a>"
            ]
          },
          "metadata": {},
          "execution_count": 36
        }
      ]
    },
    {
      "cell_type": "code",
      "source": [
        "# Iterate through all anchor (<a>) tags found in the document\n",
        "for interator in soup.find_all('a'): # for each anchor tag:\n",
        "\n",
        " print(interator.get('id')) # Print the value of the 'id' attribute of the anchor tag"
      ],
      "metadata": {
        "colab": {
          "base_uri": "https://localhost:8080/"
        },
        "collapsed": true,
        "id": "U5u1K2lgNo0m",
        "outputId": "663f1fd0-4b58-46b0-b926-6c8a9f879466"
      },
      "execution_count": null,
      "outputs": [
        {
          "output_type": "stream",
          "name": "stdout",
          "text": [
            "link1\n",
            "link2\n",
            "link3\n"
          ]
        }
      ]
    },
    {
      "cell_type": "code",
      "source": [
        "# Iterate through all anchor (<a>) tags found in the document\n",
        "for interator in soup.find_all('a'): # for each anchor tag:\n",
        "\n",
        " print(interator.get('href')) # Print the value of the 'href'attribute of the anchor tag"
      ],
      "metadata": {
        "colab": {
          "base_uri": "https://localhost:8080/"
        },
        "collapsed": true,
        "id": "zzFCVbTXN4Ag",
        "outputId": "f827471d-a769-4a1f-de08-bdf178148c58"
      },
      "execution_count": null,
      "outputs": [
        {
          "output_type": "stream",
          "name": "stdout",
          "text": [
            "http://example.com/gatsby\n",
            "http://example.com/1984\n",
            "http://example.com/mockingbird\n"
          ]
        }
      ]
    },
    {
      "cell_type": "code",
      "source": [
        "# Get all the text content from the entire HTML document\n",
        "soup.get_text()\n",
        "\n"
      ],
      "metadata": {
        "colab": {
          "base_uri": "https://localhost:8080/",
          "height": 87
        },
        "collapsed": true,
        "id": "IsOzgtDWN669",
        "outputId": "c91ed14a-c77b-49eb-b82e-cb484d751c6b"
      },
      "execution_count": null,
      "outputs": [
        {
          "output_type": "execute_result",
          "data": {
            "text/plain": [
              "'\\n\\n\\n\\n\\nSample Books Data\\n\\n\\n\\nBooks List\\n\\n\\nThe Great Gatsby\\n\\nAuthor: F. Scott Fitzgerald\\nPrice: $10.99\\nPublication Year: 1925\\nGenre: Fiction\\n\\n A novel about the American dream, set in the 1920s on Long\\nIsland.\\n \\nMore Info: Learn More\\n\\n\\n\\n1984\\n\\nAuthor: George Orwell\\nPrice: $8.99\\nPublication Year: 1949\\nGenre: Dystopian\\n\\n A story about a totalitarian regime that uses surveillance\\nand propaganda to control its citizens.\\n \\nMore Info: Learn More\\n\\n\\n\\nTo Kill a Mockingbird\\n\\nAuthor: Harper Lee\\nPrice: $7.99\\nPublication Year: 1960\\nGenre: Fiction\\n\\n A novel set in the Great Depression that addresses serious\\nissues of race and injustice.\\n \\nMore Info: Learn More\\n\\n\\n\\n'"
            ],
            "application/vnd.google.colaboratory.intrinsic+json": {
              "type": "string"
            }
          },
          "metadata": {},
          "execution_count": 39
        }
      ]
    },
    {
      "cell_type": "code",
      "source": [
        "# Print all the text content from the entire HTML document\n",
        "print(soup.get_text())\n"
      ],
      "metadata": {
        "colab": {
          "base_uri": "https://localhost:8080/"
        },
        "collapsed": true,
        "id": "qobRQVG-OGlc",
        "outputId": "a507bba4-b601-4624-9f70-fc5d635d0910"
      },
      "execution_count": null,
      "outputs": [
        {
          "output_type": "stream",
          "name": "stdout",
          "text": [
            "\n",
            "\n",
            "\n",
            "\n",
            "\n",
            "Sample Books Data\n",
            "\n",
            "\n",
            "\n",
            "Books List\n",
            "\n",
            "\n",
            "The Great Gatsby\n",
            "\n",
            "Author: F. Scott Fitzgerald\n",
            "Price: $10.99\n",
            "Publication Year: 1925\n",
            "Genre: Fiction\n",
            "\n",
            " A novel about the American dream, set in the 1920s on Long\n",
            "Island.\n",
            " \n",
            "More Info: Learn More\n",
            "\n",
            "\n",
            "\n",
            "1984\n",
            "\n",
            "Author: George Orwell\n",
            "Price: $8.99\n",
            "Publication Year: 1949\n",
            "Genre: Dystopian\n",
            "\n",
            " A story about a totalitarian regime that uses surveillance\n",
            "and propaganda to control its citizens.\n",
            " \n",
            "More Info: Learn More\n",
            "\n",
            "\n",
            "\n",
            "To Kill a Mockingbird\n",
            "\n",
            "Author: Harper Lee\n",
            "Price: $7.99\n",
            "Publication Year: 1960\n",
            "Genre: Fiction\n",
            "\n",
            " A novel set in the Great Depression that addresses serious\n",
            "issues of race and injustice.\n",
            " \n",
            "More Info: Learn More\n",
            "\n",
            "\n",
            "\n",
            "\n"
          ]
        }
      ]
    }
  ]
}